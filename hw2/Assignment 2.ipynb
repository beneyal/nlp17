{
 "cells": [
  {
   "cell_type": "markdown",
   "metadata": {
    "deletable": true,
    "editable": true
   },
   "source": [
    "# Assignment 2\n",
    "\n",
    "### Authors:\n",
    "* Niv Harmelech, 200327864\n",
    "* Ben Eyal, 301841953"
   ]
  },
  {
   "cell_type": "markdown",
   "metadata": {
    "deletable": true,
    "editable": true
   },
   "source": [
    "# Imports"
   ]
  },
  {
   "cell_type": "code",
   "execution_count": 1,
   "metadata": {
    "collapsed": false,
    "deletable": true,
    "editable": true
   },
   "outputs": [
    {
     "name": "stderr",
     "output_type": "stream",
     "text": [
      "C:\\Users\\Ben\\Anaconda3\\envs\\tensorflow\\lib\\site-packages\\gensim\\utils.py:855: UserWarning: detected Windows; aliasing chunkize to chunkize_serial\n",
      "  warnings.warn(\"detected Windows; aliasing chunkize to chunkize_serial\")\n"
     ]
    },
    {
     "name": "stdout",
     "output_type": "stream",
     "text": [
      "curses is not supported on this machine (please install/reinstall curses for an optimal experience)\n"
     ]
    },
    {
     "name": "stderr",
     "output_type": "stream",
     "text": [
      "Using TensorFlow backend.\n"
     ]
    }
   ],
   "source": [
    "# Q1\n",
    "import itertools\n",
    "import os.path\n",
    "import re\n",
    "import tarfile\n",
    "import time\n",
    "from collections import defaultdict\n",
    "from glob import glob\n",
    "from html.parser import HTMLParser\n",
    "from urllib.request import urlretrieve\n",
    "\n",
    "import matplotlib.pyplot as plt\n",
    "import numpy as np\n",
    "import pandas as pd\n",
    "from matplotlib import rcParams\n",
    "from nltk import word_tokenize\n",
    "from sklearn.datasets import get_data_home\n",
    "from sklearn.feature_extraction.text import HashingVectorizer\n",
    "from sklearn.linear_model import PassiveAggressiveClassifier\n",
    "from sklearn.linear_model import Perceptron\n",
    "from sklearn.linear_model import SGDClassifier\n",
    "from sklearn.naive_bayes import MultinomialNB\n",
    "\n",
    "# Q2\n",
    "\n",
    "import string\n",
    "\n",
    "import gensim\n",
    "import nltk\n",
    "from nltk.corpus import conll2002\n",
    "from scipy.sparse import coo_matrix\n",
    "from sklearn.base import TransformerMixin\n",
    "from sklearn.feature_extraction import DictVectorizer\n",
    "from sklearn.linear_model import LogisticRegression\n",
    "from sklearn.pipeline import FeatureUnion, Pipeline\n",
    "from sklearn.preprocessing import LabelEncoder\n",
    "\n",
    "# Q3\n",
    "\n",
    "import tensorflow as tf\n",
    "import tflearn\n",
    "from keras.datasets import reuters\n",
    "from tflearn.data_utils import pad_sequences, to_categorical\n",
    "from tflearn.datasets import imdb\n",
    "\n",
    "\n",
    "%matplotlib inline"
   ]
  },
  {
   "cell_type": "markdown",
   "metadata": {
    "deletable": true,
    "editable": true
   },
   "source": [
    "# Q1. Document Classification"
   ]
  },
  {
   "cell_type": "markdown",
   "metadata": {
    "deletable": true,
    "editable": true
   },
   "source": [
    "## Q1.1. Reuters Dataset Exploration "
   ]
  },
  {
   "cell_type": "markdown",
   "metadata": {
    "deletable": true,
    "editable": true
   },
   "source": [
    "### 1."
   ]
  },
  {
   "cell_type": "markdown",
   "metadata": {
    "deletable": true,
    "editable": true
   },
   "source": [
    "### Acknowledgements"
   ]
  },
  {
   "cell_type": "code",
   "execution_count": 2,
   "metadata": {
    "collapsed": false,
    "deletable": true,
    "editable": true
   },
   "outputs": [],
   "source": [
    "# Authors: Eustache Diemert <eustache@diemert.fr>\n",
    "#          @FedericoV <https://github.com/FedericoV/>\n",
    "# License: BSD 3 clause"
   ]
  },
  {
   "cell_type": "markdown",
   "metadata": {
    "deletable": true,
    "editable": true
   },
   "source": [
    "### Prologue - Grump's Quest\n",
    "\n",
    "Once upon a time there was a man called Ronald Grump. He was the president of the United States of Scramerica. Grump hated many things. So many things, in fact, that he could not fit them all into his memory. One of these things was FAKE NEWS, which stands for \"written-media-which-says-things-Grump-does-not-like\". Trust me, it's an acronym. Anyway, one such supplier of FAKE NEWS was Reuters, and Grump wanted to see just how much FAKE NEWS Reuters had. Grump's advisers told him it was approximately \"one metric fuckton\" (1,000 fuckilograms), but Grump also hated metric units, so he had no idea what they meant, and so Grump set out on a journey to discover how much FAKE NEWS does Reuters really hold."
   ]
  },
  {
   "cell_type": "markdown",
   "metadata": {
    "deletable": true,
    "editable": true
   },
   "source": [
    "### Chapter I - Reuters Recon\n",
    "\n",
    "As president Grump's memory is nothing to write home about, he sends for the only man who can help him: Dave. Dave is an all-around nice guy, and Grump will kill him if he won't help, so not too many choices there. Poor Dave.\n",
    "\n",
    "With a pen in hand, Dave explained how Grump can learn all he needs about Reuters\n",
    "without making his head explode: \"It is really simple, Mr. President! First I need to teach you how to read!\" (because apparently, in Scramerica, the only thing you need in order to run for president is a Scramerican citizenship, and a somewhat regular pulse)."
   ]
  },
  {
   "cell_type": "markdown",
   "metadata": {
    "deletable": true,
    "editable": true
   },
   "source": [
    "#### Grump's Reading Lesson a.k.a Reuters Dataset Parser\n",
    "\n",
    "This is a very boring lesson, and you might wish to [skip ahead](#generator).\n",
    "\n",
    "The dataset consists of HTML-like markup files, and `ReutersParser` is just a very simple implementation of Python's `HTMLParser`, as per the parent class' documentation."
   ]
  },
  {
   "cell_type": "code",
   "execution_count": 3,
   "metadata": {
    "collapsed": false,
    "deletable": true,
    "editable": true
   },
   "outputs": [],
   "source": [
    "class ReutersParser(HTMLParser):\n",
    "    \"\"\"Utility class to parse a SGML file and yield documents one at a time.\"\"\"\n",
    "\n",
    "    def __init__(self, encoding='latin-1'):\n",
    "        HTMLParser.__init__(self)\n",
    "        self._reset()\n",
    "        self.encoding = encoding\n",
    "\n",
    "    def handle_starttag(self, tag, attrs):\n",
    "        method = 'start_' + tag\n",
    "        getattr(self, method, lambda x: None)(attrs)\n",
    "\n",
    "    def handle_endtag(self, tag):\n",
    "        method = 'end_' + tag\n",
    "        getattr(self, method, lambda: None)()\n",
    "\n",
    "    def _reset(self):\n",
    "        self.in_title = 0\n",
    "        self.in_body = 0\n",
    "        self.in_topics = 0\n",
    "        self.in_topic_d = 0\n",
    "        self.title = \"\"\n",
    "        self.body = \"\"\n",
    "        self.topics = []\n",
    "        self.topic_d = \"\"\n",
    "\n",
    "    def parse(self, fd):\n",
    "        self.docs = []\n",
    "        for chunk in fd:\n",
    "            self.feed(chunk.decode(self.encoding))\n",
    "            for doc in self.docs:\n",
    "                yield doc\n",
    "            self.docs = []\n",
    "        self.close()\n",
    "\n",
    "    def handle_data(self, data):\n",
    "        if self.in_body:\n",
    "            self.body += data\n",
    "        elif self.in_title:\n",
    "            self.title += data\n",
    "        elif self.in_topic_d:\n",
    "            self.topic_d += data\n",
    "\n",
    "    def start_reuters(self, attributes):\n",
    "        pass\n",
    "\n",
    "    def end_reuters(self):\n",
    "        self.body = re.sub(r'\\s+', r' ', self.body)\n",
    "        self.docs.append({'title': self.title,\n",
    "                          'body': self.body,\n",
    "                          'topics': self.topics})\n",
    "        self._reset()\n",
    "\n",
    "    def start_title(self, attributes):\n",
    "        self.in_title = 1\n",
    "\n",
    "    def end_title(self):\n",
    "        self.in_title = 0\n",
    "\n",
    "    def start_body(self, attributes):\n",
    "        self.in_body = 1\n",
    "\n",
    "    def end_body(self):\n",
    "        self.in_body = 0\n",
    "\n",
    "    def start_topics(self, attributes):\n",
    "        self.in_topics = 1\n",
    "\n",
    "    def end_topics(self):\n",
    "        self.in_topics = 0\n",
    "\n",
    "    def start_d(self, attributes):\n",
    "        self.in_topic_d = 1\n",
    "\n",
    "    def end_d(self):\n",
    "        self.in_topic_d = 0\n",
    "        self.topics.append(self.topic_d)\n",
    "        self.topic_d = \"\""
   ]
  },
  {
   "cell_type": "markdown",
   "metadata": {
    "deletable": true,
    "editable": true
   },
   "source": [
    "<a id=\"generator\"></a>\n",
    "#### Dave's Handy-Dandy Code a.k.a Reuters Dataset Generator\n",
    "\n",
    "After a very long, tedious, and annoying reading lesson, Dave continued: \"Now that you can read, we need to make sure we don't bite more data than we can chew, so I made this nifty little piece of code that brings us Reuters' documents one-by-one!\""
   ]
  },
  {
   "cell_type": "code",
   "execution_count": 4,
   "metadata": {
    "collapsed": true,
    "deletable": true,
    "editable": true
   },
   "outputs": [],
   "source": [
    "def stream_reuters_documents(data_path=None):\n",
    "    \"\"\"Iterate over documents of the Reuters dataset.\n",
    "\n",
    "    The Reuters archive will automatically be downloaded and uncompressed if\n",
    "    the `data_path` directory does not exist.\n",
    "\n",
    "    Documents are represented as dictionaries with 'body' (str),\n",
    "    'title' (str), 'topics' (list(str)) keys.\n",
    "\n",
    "    \"\"\"\n",
    "\n",
    "    DOWNLOAD_URL = 'http://archive.ics.uci.edu/ml/machine-learning-databases/reuters21578-mld/reuters21578.tar.gz'\n",
    "    ARCHIVE_FILENAME = 'reuters21578.tar.gz'\n",
    "\n",
    "    if data_path is None:\n",
    "        data_path = os.path.join(get_data_home(), \"reuters\")\n",
    "    if not os.path.exists(data_path):\n",
    "        \"\"\"Download the dataset.\"\"\"\n",
    "        print(\"downloading dataset (once and for all) into %s\" % data_path)\n",
    "        os.mkdir(data_path)\n",
    "\n",
    "        def progress(blocknum, bs, size):\n",
    "            total_sz_mb = '%.2f MB' % (size / 1e6)\n",
    "            current_sz_mb = '%.2f MB' % ((blocknum * bs) / 1e6)\n",
    "            print('\\rdownloaded %s / %s' % (current_sz_mb, total_sz_mb), end='')\n",
    "\n",
    "        archive_path = os.path.join(data_path, ARCHIVE_FILENAME)\n",
    "        urlretrieve(DOWNLOAD_URL, filename=archive_path, reporthook=progress)\n",
    "        \n",
    "        print('\\r', end='')\n",
    "        print(\"untarring Reuters dataset...\")\n",
    "        tarfile.open(archive_path, 'r:gz').extractall(data_path)\n",
    "        print(\"done.\")\n",
    "\n",
    "    parser = ReutersParser()\n",
    "    for filename in glob(os.path.join(data_path, \"*.sgm\")):\n",
    "        for doc in parser.parse(open(filename, 'rb')):\n",
    "            yield doc"
   ]
  },
  {
   "cell_type": "markdown",
   "metadata": {
    "deletable": true,
    "editable": true
   },
   "source": [
    "### Chapter II - Know Your Enemy\n",
    "\n",
    "With the power of reading under his belt, and Dave by his side, Grump was now ready to tackle the dataset. Or so he thought. Which isn't surprising, being he's an idiot.\n",
    "\n",
    "Dave wanted to start easy with the big boss, and knowing of Grump's past in real-estate, decided to teach him how to tell if a document is about acquisitions/merges, or about anything else."
   ]
  },
  {
   "cell_type": "code",
   "execution_count": 5,
   "metadata": {
    "collapsed": true,
    "deletable": true,
    "editable": true
   },
   "outputs": [],
   "source": [
    "all_classes = np.array([0, 1])\n",
    "positive_class = 'acq'"
   ]
  },
  {
   "cell_type": "markdown",
   "metadata": {
    "deletable": true,
    "editable": true
   },
   "source": [
    "First, he needed to get those documents flowing:"
   ]
  },
  {
   "cell_type": "code",
   "execution_count": 6,
   "metadata": {
    "collapsed": true,
    "deletable": true,
    "editable": true
   },
   "outputs": [],
   "source": [
    "data_stream = stream_reuters_documents()"
   ]
  },
  {
   "cell_type": "markdown",
   "metadata": {
    "deletable": true,
    "editable": true
   },
   "source": [
    "Then, he needed to explain to Grump what is about to happen.\n",
    "\n",
    "\"Mr. President, I need you to concentrate. We're going to play a game: I'll give you many many words, and you give me a number between 0 and 262,144 for each word, got that? Oh, and try really hard not to repeat the same number twice!\""
   ]
  },
  {
   "cell_type": "code",
   "execution_count": 7,
   "metadata": {
    "collapsed": true,
    "deletable": true,
    "editable": true
   },
   "outputs": [],
   "source": [
    "vectorizer = HashingVectorizer(decode_error='ignore', n_features=2 ** 18, non_negative=True)"
   ]
  },
  {
   "cell_type": "markdown",
   "metadata": {
    "deletable": true,
    "editable": true
   },
   "source": [
    "### Chapter III - Choose Your Own Adventure!\n",
    "\n",
    "Yes, kids, we are going to choose how Grump's brain is going to work!\n",
    "\n",
    "Because we are very optimistic, let's suppose that Grump's brain is running one of these four algorithms:\n",
    "\n",
    "* Stochastic Gradient Descent (SGD)\n",
    "* Perceptron\n",
    "* Multinomial Naive Bayes\n",
    "* Online Passive-Aggressive\n",
    "\n",
    "What's special about the above algorithms is that they are online algorithms, meaning one can feed them training data in batches, and not all at once. Grump's brain is going to learn to tell between documents about acquisitions/mergers and documents about anything else. In our small simulation, instead of \"learn\", we will say \"partial fit\"."
   ]
  },
  {
   "cell_type": "code",
   "execution_count": 8,
   "metadata": {
    "collapsed": false,
    "deletable": true,
    "editable": true
   },
   "outputs": [],
   "source": [
    "partial_fit_classifiers = {\n",
    "    'SGD': SGDClassifier(),\n",
    "    'Perceptron': Perceptron(),\n",
    "    'NB Multinomial': MultinomialNB(alpha=0.01),\n",
    "    'Passive-Aggressive': PassiveAggressiveClassifier(),\n",
    "}"
   ]
  },
  {
   "cell_type": "markdown",
   "metadata": {
    "deletable": true,
    "editable": true
   },
   "source": [
    "These next two functions are responsible for separating the flow of documents to constant-sized batches. `iter_minibatches` is a generator of batches, each batch produced from `get_minibatch`. These make a sort of \"treadmill\" of information, right into Grump's brain."
   ]
  },
  {
   "cell_type": "code",
   "execution_count": 9,
   "metadata": {
    "collapsed": true,
    "deletable": true,
    "editable": true
   },
   "outputs": [],
   "source": [
    "def get_minibatch(doc_iter, size, pos_class=positive_class):\n",
    "    data = [('{title}\\n\\n{body}'.format(**doc), pos_class in doc['topics'])\n",
    "            for doc in itertools.islice(doc_iter, size)\n",
    "            if doc['topics']]\n",
    "    if not len(data):\n",
    "        return np.asarray([], dtype=int), np.asarray([], dtype=int)\n",
    "    X_text, y = zip(*data)\n",
    "    return X_text, np.asarray(y, dtype=int)\n",
    "\n",
    "\n",
    "def iter_minibatches(doc_iter, minibatch_size):\n",
    "    X_text, y = get_minibatch(doc_iter, minibatch_size)\n",
    "    while len(X_text):\n",
    "        yield X_text, y\n",
    "        X_text, y = get_minibatch(doc_iter, minibatch_size)"
   ]
  },
  {
   "cell_type": "markdown",
   "metadata": {
    "deletable": true,
    "editable": true
   },
   "source": [
    "In order for Dave to monitor the success of Grump's training, he needs to put aside some documents, and hide them from Grump. Later, when the training is finished, Dave can test Grump using these secret documents. He's also keeping tabs on how long it takes to train Grump, because Dave is paid hourly."
   ]
  },
  {
   "cell_type": "code",
   "execution_count": 10,
   "metadata": {
    "collapsed": false,
    "deletable": true,
    "editable": true
   },
   "outputs": [
    {
     "name": "stdout",
     "output_type": "stream",
     "text": [
      "Test set is 878 documents (108 positive)\n"
     ]
    }
   ],
   "source": [
    "test_stats = {'n_test': 0, 'n_test_pos': 0}\n",
    "\n",
    "n_test_documents = 1000\n",
    "tick = time.time()\n",
    "X_test_text, y_test = get_minibatch(data_stream, 1000)\n",
    "parsing_time = time.time() - tick\n",
    "tick = time.time()\n",
    "X_test = vectorizer.transform(X_test_text)\n",
    "vectorizing_time = time.time() - tick\n",
    "test_stats['n_test'] += y_test.size\n",
    "test_stats['n_test_pos'] += y_test.sum()\n",
    "print(\"Test set is %d documents (%d positive)\" % (y_test.size, y_test.sum()))"
   ]
  },
  {
   "cell_type": "markdown",
   "metadata": {
    "deletable": true,
    "editable": true
   },
   "source": [
    "Nothing to see here, just some bells and whistles..."
   ]
  },
  {
   "cell_type": "code",
   "execution_count": 11,
   "metadata": {
    "collapsed": true,
    "deletable": true,
    "editable": true
   },
   "outputs": [],
   "source": [
    "def progress(cls_name, stats):\n",
    "    \"\"\"Report progress information, return a string.\"\"\"\n",
    "    duration = time.time() - stats['t0']\n",
    "    s = \"%20s classifier :  \" % (cls_name,)\n",
    "    s += \"%(n_train)6d train docs (%(n_train_pos)6d positive) \" % stats\n",
    "    s += \"%(n_test)6d test docs (%(n_test_pos)6d positive) \" % test_stats\n",
    "    s += \"accuracy: %(accuracy).3f \" % stats\n",
    "    s += \"in %.2fs (%5d docs/s)\" % (duration, stats['n_train'] / duration)\n",
    "    return s"
   ]
  },
  {
   "cell_type": "markdown",
   "metadata": {
    "deletable": true,
    "editable": true
   },
   "source": [
    "Okay, now each of the learners described above will learn to tell between acquisitions/mergers and other documents by learning from a batch of example at every step."
   ]
  },
  {
   "cell_type": "code",
   "execution_count": 12,
   "metadata": {
    "collapsed": false,
    "deletable": true,
    "editable": true,
    "scrolled": true
   },
   "outputs": [
    {
     "name": "stdout",
     "output_type": "stream",
     "text": [
      "      NB Multinomial classifier :     966 train docs (    88 positive)    878 test docs (   108 positive) accuracy: 0.877 in 0.65s ( 1477 docs/s)\n",
      "                 SGD classifier :     966 train docs (    88 positive)    878 test docs (   108 positive) accuracy: 0.891 in 0.67s ( 1434 docs/s)\n",
      "  Passive-Aggressive classifier :     966 train docs (    88 positive)    878 test docs (   108 positive) accuracy: 0.910 in 0.68s ( 1427 docs/s)\n",
      "          Perceptron classifier :     966 train docs (    88 positive)    878 test docs (   108 positive) accuracy: 0.904 in 0.68s ( 1421 docs/s)\n",
      "\n",
      "\n",
      "      NB Multinomial classifier :    3889 train docs (   483 positive)    878 test docs (   108 positive) accuracy: 0.884 in 2.71s ( 1435 docs/s)\n",
      "                 SGD classifier :    3889 train docs (   483 positive)    878 test docs (   108 positive) accuracy: 0.948 in 2.71s ( 1434 docs/s)\n",
      "  Passive-Aggressive classifier :    3889 train docs (   483 positive)    878 test docs (   108 positive) accuracy: 0.952 in 2.71s ( 1433 docs/s)\n",
      "          Perceptron classifier :    3889 train docs (   483 positive)    878 test docs (   108 positive) accuracy: 0.901 in 2.72s ( 1431 docs/s)\n",
      "\n",
      "\n",
      "      NB Multinomial classifier :    6815 train docs (   864 positive)    878 test docs (   108 positive) accuracy: 0.904 in 4.78s ( 1426 docs/s)\n",
      "                 SGD classifier :    6815 train docs (   864 positive)    878 test docs (   108 positive) accuracy: 0.957 in 4.78s ( 1425 docs/s)\n",
      "  Passive-Aggressive classifier :    6815 train docs (   864 positive)    878 test docs (   108 positive) accuracy: 0.956 in 4.78s ( 1424 docs/s)\n",
      "          Perceptron classifier :    6815 train docs (   864 positive)    878 test docs (   108 positive) accuracy: 0.932 in 4.79s ( 1424 docs/s)\n",
      "\n",
      "\n",
      "      NB Multinomial classifier :    9743 train docs (  1218 positive)    878 test docs (   108 positive) accuracy: 0.910 in 6.90s ( 1412 docs/s)\n",
      "                 SGD classifier :    9743 train docs (  1218 positive)    878 test docs (   108 positive) accuracy: 0.933 in 6.90s ( 1412 docs/s)\n",
      "  Passive-Aggressive classifier :    9743 train docs (  1218 positive)    878 test docs (   108 positive) accuracy: 0.957 in 6.90s ( 1411 docs/s)\n",
      "          Perceptron classifier :    9743 train docs (  1218 positive)    878 test docs (   108 positive) accuracy: 0.949 in 6.90s ( 1411 docs/s)\n",
      "\n",
      "\n",
      "      NB Multinomial classifier :   12179 train docs (  1545 positive)    878 test docs (   108 positive) accuracy: 0.921 in 8.94s ( 1361 docs/s)\n",
      "                 SGD classifier :   12179 train docs (  1545 positive)    878 test docs (   108 positive) accuracy: 0.954 in 8.95s ( 1361 docs/s)\n",
      "  Passive-Aggressive classifier :   12179 train docs (  1545 positive)    878 test docs (   108 positive) accuracy: 0.962 in 8.95s ( 1360 docs/s)\n",
      "          Perceptron classifier :   12179 train docs (  1545 positive)    878 test docs (   108 positive) accuracy: 0.912 in 8.95s ( 1360 docs/s)\n",
      "\n",
      "\n",
      "      NB Multinomial classifier :   14622 train docs (  1798 positive)    878 test docs (   108 positive) accuracy: 0.924 in 10.92s ( 1339 docs/s)\n",
      "                 SGD classifier :   14622 train docs (  1798 positive)    878 test docs (   108 positive) accuracy: 0.941 in 10.92s ( 1338 docs/s)\n",
      "  Passive-Aggressive classifier :   14622 train docs (  1798 positive)    878 test docs (   108 positive) accuracy: 0.956 in 10.92s ( 1338 docs/s)\n",
      "          Perceptron classifier :   14622 train docs (  1798 positive)    878 test docs (   108 positive) accuracy: 0.954 in 10.93s ( 1338 docs/s)\n",
      "\n",
      "\n",
      "      NB Multinomial classifier :   17456 train docs (  2209 positive)    878 test docs (   108 positive) accuracy: 0.931 in 12.99s ( 1343 docs/s)\n",
      "                 SGD classifier :   17456 train docs (  2209 positive)    878 test docs (   108 positive) accuracy: 0.956 in 13.00s ( 1343 docs/s)\n",
      "  Passive-Aggressive classifier :   17456 train docs (  2209 positive)    878 test docs (   108 positive) accuracy: 0.950 in 13.00s ( 1342 docs/s)\n",
      "          Perceptron classifier :   17456 train docs (  2209 positive)    878 test docs (   108 positive) accuracy: 0.959 in 13.00s ( 1342 docs/s)\n",
      "\n",
      "\n"
     ]
    }
   ],
   "source": [
    "cls_stats = {}\n",
    "\n",
    "for cls_name in partial_fit_classifiers:\n",
    "    stats = {'n_train': 0,\n",
    "             'n_train_pos': 0,\n",
    "             'accuracy': 0.0,\n",
    "             'accuracy_history': [(0, 0)],\n",
    "             't0': time.time(),\n",
    "             'runtime_history': [(0, 0)],\n",
    "             'total_fit_time': 0.0}\n",
    "    cls_stats[cls_name] = stats\n",
    "\n",
    "minibatch_size = 1000\n",
    "\n",
    "minibatch_iterators = iter_minibatches(data_stream, minibatch_size)\n",
    "total_vect_time = 0.0\n",
    "\n",
    "for i, (X_train_text, y_train) in enumerate(minibatch_iterators):\n",
    "\n",
    "    tick = time.time()\n",
    "    X_train = vectorizer.transform(X_train_text)\n",
    "    total_vect_time += time.time() - tick\n",
    "\n",
    "    for cls_name, cls in partial_fit_classifiers.items():\n",
    "        tick = time.time()\n",
    "        cls.partial_fit(X_train, y_train, classes=all_classes)\n",
    "\n",
    "        # Just some statistics for Dave\n",
    "        cls_stats[cls_name]['total_fit_time'] += time.time() - tick\n",
    "        cls_stats[cls_name]['n_train'] += X_train.shape[0]\n",
    "        cls_stats[cls_name]['n_train_pos'] += sum(y_train)\n",
    "        tick = time.time()\n",
    "        cls_stats[cls_name]['accuracy'] = cls.score(X_test, y_test)\n",
    "        cls_stats[cls_name]['prediction_time'] = time.time() - tick\n",
    "        acc_history = (cls_stats[cls_name]['accuracy'], cls_stats[cls_name]['n_train'])\n",
    "        cls_stats[cls_name]['accuracy_history'].append(acc_history)\n",
    "        run_history = (cls_stats[cls_name]['accuracy'], total_vect_time + cls_stats[cls_name]['total_fit_time'])\n",
    "        cls_stats[cls_name]['runtime_history'].append(run_history)\n",
    "\n",
    "        if i % 3 == 0:\n",
    "            print(progress(cls_name, cls_stats[cls_name]))\n",
    "    if i % 3 == 0:\n",
    "        print('\\n')"
   ]
  },
  {
   "cell_type": "markdown",
   "metadata": {
    "deletable": true,
    "editable": true
   },
   "source": [
    "#### Pretty Colors!\n",
    "\n",
    "Let's see which of the algorithms is the best algorithm suitable for Grump's brain, and what a better way to decide if not with pretty colors and charts and graphs! It's like an educational acid trip!\n",
    "\n",
    "First, a little tinkering..."
   ]
  },
  {
   "cell_type": "code",
   "execution_count": 13,
   "metadata": {
    "collapsed": true,
    "deletable": true,
    "editable": true
   },
   "outputs": [],
   "source": [
    "rcParams['legend.fontsize'] = 10"
   ]
  },
  {
   "cell_type": "markdown",
   "metadata": {
    "deletable": true,
    "editable": true
   },
   "source": [
    "We take the names of the four algorithms above:"
   ]
  },
  {
   "cell_type": "code",
   "execution_count": 14,
   "metadata": {
    "collapsed": true,
    "deletable": true,
    "editable": true
   },
   "outputs": [],
   "source": [
    "cls_names = list(sorted(cls_stats.keys()))"
   ]
  },
  {
   "cell_type": "markdown",
   "metadata": {
    "deletable": true,
    "editable": true
   },
   "source": [
    "And now we can start doing some pretty stuff! First, we'll see how accuracy improves as a function of both the number of training examples, and runtime:"
   ]
  },
  {
   "cell_type": "code",
   "execution_count": 15,
   "metadata": {
    "collapsed": false,
    "deletable": true,
    "editable": true
   },
   "outputs": [
    {
     "data": {
      "image/png": "[encoded data removed]",
      "text/plain": [
       "<matplotlib.figure.Figure at 0x22cb180aba8>"
      ]
     },
     "metadata": {},
     "output_type": "display_data"
    }
   ],
   "source": [
    "f, (ax1, ax2) = plt.subplots(1, 2, sharey=True)\n",
    "f.set_figwidth(12)\n",
    "f.tight_layout()\n",
    "\n",
    "def plot_accuracy(axes, key, xlabel):\n",
    "    axes.set_title('Classification accuracy\\nas a function of %s' % (xlabel,))\n",
    "    axes.set_xlabel(xlabel.capitalize())\n",
    "    axes.grid(True)\n",
    "    for _, stats in sorted(cls_stats.items()):\n",
    "        y, x = [np.array(z) for z in zip(*stats[key])]\n",
    "        axes.plot(x, y)\n",
    "\n",
    "plot_accuracy(ax1, 'accuracy_history', 'training examples (#)')\n",
    "plot_accuracy(ax2, 'runtime_history', 'runtime (s)')\n",
    "ax1.set_ylim((0.8, 1))\n",
    "ax1.set_ylabel('Accuracy')\n",
    "ax2.legend(cls_names, loc='best');"
   ]
  },
  {
   "cell_type": "markdown",
   "metadata": {
    "deletable": true,
    "editable": true
   },
   "source": [
    "Nice. We see the online Passive-Aggressive algorithm achieves the best accuracy, although SGD and Perceptron are close by. Multinomial naive Bayes is... it's getting there...\n",
    "\n",
    "Now let's see how long does it take to fit the data for each algorithm. Although vectorization is not part of the learning process, it does incur a heavy overhead, so we add that time to the graph."
   ]
  },
  {
   "cell_type": "code",
   "execution_count": 16,
   "metadata": {
    "collapsed": false,
    "deletable": true,
    "editable": true
   },
   "outputs": [
    {
     "data": {
      "image/png": "[encoded data removed]",
      "text/plain": [
       "<matplotlib.figure.Figure at 0x22cb952d2b0>"
      ]
     },
     "metadata": {},
     "output_type": "display_data"
    },
    {
     "data": {
      "image/png": "[encoded data removed]",
      "text/plain": [
       "<matplotlib.figure.Figure at 0x22cb9691f60>"
      ]
     },
     "metadata": {},
     "output_type": "display_data"
    }
   ],
   "source": [
    "def autolabel(rectangles):\n",
    "    \"\"\"attach some text vi autolabel on rectangles.\"\"\"\n",
    "    for rect in rectangles:\n",
    "        height = rect.get_height()\n",
    "        plt.text(rect.get_x() + rect.get_width() / 2., 1.05 * height, '%.4f' % height, ha='center', va='bottom')\n",
    "\n",
    "\n",
    "bar_colors = ['b', 'g', 'r', 'c', 'm', 'y']\n",
    "\n",
    "# Plot fitting times\n",
    "plt.figure()\n",
    "fig = plt.gcf()\n",
    "fig.set_figwidth(10)\n",
    "cls_runtime = []\n",
    "for cls_name, stats in sorted(cls_stats.items()):\n",
    "    cls_runtime.append(stats['total_fit_time'])\n",
    "cls_runtime.append(total_vect_time)\n",
    "cls_names_with_vectorization = cls_names + ['Vectorization']\n",
    "rectangles = plt.bar(range(len(cls_names_with_vectorization)), cls_runtime, color=bar_colors)\n",
    "plt.xticks(range(5), cls_names_with_vectorization, fontsize=12)\n",
    "plt.ylim((0, max(cls_runtime) * 1.2))\n",
    "plt.ylabel('Runtime (s)')\n",
    "plt.title('Training Times')\n",
    "autolabel(rectangles)\n",
    "\n",
    "# Plot prediction times\n",
    "plt.figure()\n",
    "fig = plt.gcf()\n",
    "fig.set_figwidth(10)\n",
    "cls_runtime = []\n",
    "for cls_name, stats in sorted(cls_stats.items()):\n",
    "    cls_runtime.append(stats['prediction_time'])\n",
    "cls_runtime.append(parsing_time)\n",
    "cls_runtime.append(vectorizing_time)\n",
    "cls_names_with_overhead = cls_names + ['Read/Parse\\n+Feat.Extr.', 'Hashing\\n+Vect.']\n",
    "rectangles = plt.bar(range(len(cls_names_with_overhead)), cls_runtime, color=bar_colors)\n",
    "plt.xticks(range(6), cls_names_with_overhead, fontsize=12)\n",
    "plt.setp(plt.xticks()[1], rotation=30)\n",
    "plt.ylim((0, max(cls_runtime) * 1.2))\n",
    "plt.ylabel('Runtime (s)')\n",
    "plt.title('Prediction Times (%d instances)' % (n_test_documents,))\n",
    "autolabel(rectangles)"
   ]
  },
  {
   "cell_type": "markdown",
   "metadata": {
    "deletable": true,
    "editable": true
   },
   "source": [
    "### Epilogue\n",
    "\n",
    "Although not by much, we choose an online passive-aggressive brain for Grump. Apparently, his problem is that he's mostly just aggressive\n",
    "\n",
    "(Un)fortunately, all this learning made Grump forget what he was doing as president, so he quit and let Dave take charge for a while, until someone who knows what the hell s/he's doing comes along.\n",
    "\n",
    "### THE END"
   ]
  },
  {
   "cell_type": "markdown",
   "metadata": {
    "deletable": true,
    "editable": true
   },
   "source": [
    "### 2."
   ]
  },
  {
   "cell_type": "code",
   "execution_count": 17,
   "metadata": {
    "collapsed": false,
    "deletable": true,
    "editable": true
   },
   "outputs": [
    {
     "name": "stdout",
     "output_type": "stream",
     "text": [
      "Reuters-21578 Statsitics\n",
      "========================\n",
      "No. of documents: 21578\n",
      "No. of topics:    445\n",
      "Mean:             89.87\n",
      "Std. deviation:   644.66\n",
      "Min:              1\n",
      "Max:              12542\n",
      "\n"
     ]
    }
   ],
   "source": [
    "data_stream = stream_reuters_documents()\n",
    "\n",
    "stats = defaultdict(int)\n",
    "count = 0\n",
    "for doc in data_stream:\n",
    "    count += 1\n",
    "    for topic in doc.get('topics', []):\n",
    "        stats[topic] += 1\n",
    "\n",
    "desc_stats = pd.Series(stats, dtype=int).describe()\n",
    "desc_stats['unique_count'] = count\n",
    "\n",
    "print(\"Reuters-21578 Statsitics\")\n",
    "print(\"========================\")\n",
    "print(\"\"\"No. of documents: %(unique_count)d\n",
    "No. of topics:    %(count)d\n",
    "Mean:             %(mean).2f\n",
    "Std. deviation:   %(std).2f\n",
    "Min:              %(min)d\n",
    "Max:              %(max)d\n",
    "\"\"\" % desc_stats)"
   ]
  },
  {
   "cell_type": "markdown",
   "metadata": {
    "deletable": true,
    "editable": true
   },
   "source": [
    "### 3.\n",
    "\n",
    "It's easy to count characters, but since \"word\" is not well-defined in the question, we'll use NLTK's `word_tokenize` for word splitting."
   ]
  },
  {
   "cell_type": "code",
   "execution_count": 18,
   "metadata": {
    "collapsed": false,
    "deletable": true,
    "editable": true
   },
   "outputs": [
    {
     "name": "stdout",
     "output_type": "stream",
     "text": [
      "The dataset has 16,003,823 characters and 2,940,996 words.\n"
     ]
    }
   ],
   "source": [
    "data_stream = stream_reuters_documents()\n",
    "\n",
    "counts = defaultdict(int)\n",
    "\n",
    "for docs, _ in iter_minibatches(data_stream, 1000):\n",
    "    for doc in docs:\n",
    "        counts['char'] += len(doc)\n",
    "        counts['word'] += len(word_tokenize(doc))\n",
    "\n",
    "print(\"The dataset has {char:,} characters and {word:,} words.\".format(**counts))"
   ]
  },
  {
   "cell_type": "markdown",
   "metadata": {
    "deletable": true,
    "editable": true
   },
   "source": [
    "### 4.\n",
    "\n",
    "Scikit-Learn has a number of algorithms that support incremental, or online, learning. This means the algorithm can train on a dataset by seeing a small batch in each iteration. This allows for out-of-core learning, since it doesn't require the entire dataset be present in memory. The algorithms that support the `partial_fit` method in Scikit-Learn are:\n",
    "\n",
    "* Classification\n",
    "    * `sklearn.naive_bayes.MultinomialNB`\n",
    "    * `sklearn.naive_bayes.BernoulliNB`\n",
    "    * `sklearn.linear_model.Perceptron`\n",
    "    * `sklearn.linear_model.SGDClassifier`\n",
    "    * `sklearn.linear_model.PassiveAggressiveClassifier`\n",
    "\n",
    "* Regression\n",
    "    * `sklearn.linear_model.SGDRegressor`\n",
    "    * `sklearn.linear_model.PassiveAggressiveRegressor`\n",
    "\n",
    "* Clustering\n",
    "    * `sklearn.cluster.MiniBatchKMeans`\n",
    "\n",
    "* Decomposition / feature Extraction\n",
    "    * `sklearn.decomposition.MiniBatchDictionaryLearning`\n",
    "    * `sklearn.decomposition.IncrementalPCA`\n",
    "    * `sklearn.decomposition.LatentDirichletAllocation`\n",
    "    * `sklearn.cluster.MiniBatchKMeans`\n"
   ]
  },
  {
   "cell_type": "markdown",
   "metadata": {
    "deletable": true,
    "editable": true
   },
   "source": [
    "### 5.\n",
    "\n",
    "The hashing vectorizer used in the example takes a number of features `n_features` as an argument (and many more, which weren't used in the example), and projects each document to a `n_features`-dimensional vector space. Unlike `DictVectorizer` or `CountVectorizer`, this vectorizer does not have a `fit` method, only `transform`, because the whole point is that one can use the vectorizer when doing online learning: there's a good chance that later batches will have words that previous batches did not, and so early fitting would be wrong."
   ]
  },
  {
   "cell_type": "markdown",
   "metadata": {
    "deletable": true,
    "editable": true
   },
   "source": [
    "## Q2. Sequence Labelling for Named Entity Recognition"
   ]
  },
  {
   "cell_type": "markdown",
   "metadata": {
    "deletable": true,
    "editable": true
   },
   "source": [
    "### Dataset"
   ]
  },
  {
   "cell_type": "code",
   "execution_count": 19,
   "metadata": {
    "collapsed": true,
    "deletable": true,
    "editable": true
   },
   "outputs": [],
   "source": [
    "etr = conll2002.iob_sents('esp.train') # In Spanish\n",
    "eta = conll2002.iob_sents('esp.testa') # In Spanish\n",
    "etb = conll2002.iob_sents('esp.testb') # In Spanish\n",
    "\n",
    "dtr = conll2002.iob_sents('ned.train') # In Dutch\n",
    "dta = conll2002.iob_sents('ned.testa') # In Dutch\n",
    "dtb = conll2002.iob_sents('ned.testb') # In Dutch"
   ]
  },
  {
   "cell_type": "markdown",
   "metadata": {
    "deletable": true,
    "editable": true
   },
   "source": [
    "### Q2.1 Features"
   ]
  },
  {
   "cell_type": "markdown",
   "metadata": {
    "deletable": true,
    "editable": true
   },
   "source": [
    "We start by creating our own scikit-learn transformer which transforms the CoNLL-2002 dataset to a list of feature dictionaries. Creating a transformer requires only to inherit `TransformerMixin` and implement `fit` and `transform`."
   ]
  },
  {
   "cell_type": "code",
   "execution_count": 20,
   "metadata": {
    "collapsed": false,
    "deletable": true,
    "editable": true
   },
   "outputs": [],
   "source": [
    "class NERFeatureExtractor(TransformerMixin):\n",
    "    def transform(self, X):\n",
    "        ort = {\n",
    "            'number': lambda s: s.isnumeric(),\n",
    "            'contains-digit': lambda s: any(c.isdigit() for c in s),\n",
    "            'contains-hyphen': lambda s: '-' in s,\n",
    "            'capitalized': lambda s: s.istitle(),\n",
    "            'all-capitals': lambda s: s.isupper(),\n",
    "            'punctuation': lambda s: s in string.punctuation,\n",
    "        }\n",
    "        all_features = []\n",
    "        for sent in X:\n",
    "            for i, (word, postag) in enumerate(sent):\n",
    "                for value, pred in ort.items():\n",
    "                    if pred(word):\n",
    "                        ort_value = value\n",
    "                        break\n",
    "                else:\n",
    "                    ort_value = 'regular'\n",
    "\n",
    "                features = {\n",
    "                    'word': word.lower(),\n",
    "                    'postag': postag,\n",
    "                    'ort': ort_value,\n",
    "                    'prefix1': word[:1],\n",
    "                    'prefix2': word[:2],\n",
    "                    'prefix3': word[:3],\n",
    "                    'suffix1': word[-1:],\n",
    "                    'suffix2': word[-2:],\n",
    "                    'suffix3': word[-3:],\n",
    "                }\n",
    "                \n",
    "                if i > 0:\n",
    "                    prev_word, prev_postag = sent[i-1]\n",
    "                    features.update({'prev_word': prev_word,\n",
    "                                     'prev_postag': prev_postag})\n",
    "                else:\n",
    "                    features.update({'prev_word': '-START-'})\n",
    "                \n",
    "                if i < len(sent) - 1:\n",
    "                    next_word, next_postag = sent[i+1]\n",
    "                    features.update({'next_word': next_word,\n",
    "                                     'next_postag': next_postag})\n",
    "                else:\n",
    "                    features.update({'next_word': '-END-'})\n",
    "                \n",
    "                all_features.append(features)\n",
    "        return all_features\n",
    "    \n",
    "    def fit(self, X, y=None):\n",
    "        return self"
   ]
  },
  {
   "cell_type": "markdown",
   "metadata": {
    "deletable": true,
    "editable": true
   },
   "source": [
    "We now create our training, development, and test sets. Since NER is a multiclass classification problem, and our labels are categorical, we use scikit-learn's `LabelEncoder` to learn the tags in the training set, and transform each label vector to a numerical counterpart."
   ]
  },
  {
   "cell_type": "code",
   "execution_count": 21,
   "metadata": {
    "collapsed": false,
    "deletable": true,
    "editable": true
   },
   "outputs": [],
   "source": [
    "def make_feature_extractor():\n",
    "    return Pipeline([('get_features', NERFeatureExtractor()),\n",
    "                     ('vectorize', DictVectorizer())])\n",
    "\n",
    "\n",
    "def get_labels(dataset):\n",
    "    return [label for sent in dataset for _, _, label in sent]\n",
    "\n",
    "\n",
    "def unlabel(dataset):\n",
    "    return [[(word, postag) for word, postag, _ in sent] for sent in dataset]\n",
    "\n",
    "\n",
    "def get_label_encoder(dataset):\n",
    "    return LabelEncoder().fit(get_labels(dataset))\n",
    "\n",
    "\n",
    "# Spanish\n",
    "esp_fe = make_feature_extractor()\n",
    "esp_le = get_label_encoder(etr)\n",
    "\n",
    "X_train_esp = esp_fe.fit_transform(unlabel(etr))\n",
    "y_train_esp = esp_le.fit_transform(get_labels(etr))\n",
    "\n",
    "X_dev_esp = esp_fe.transform(unlabel(eta))\n",
    "y_dev_esp = esp_le.transform(get_labels(eta))\n",
    "\n",
    "X_test_esp = esp_fe.transform(unlabel(etb))\n",
    "y_test_esp = esp_le.transform(get_labels(etb))\n",
    "\n",
    "# Dutch\n",
    "ned_fe = make_feature_extractor()\n",
    "ned_le = get_label_encoder(dtr)\n",
    "\n",
    "X_train_ned = ned_fe.fit_transform(unlabel(dtr))\n",
    "y_train_ned = ned_le.fit_transform(get_labels(dtr))\n",
    "\n",
    "X_dev_ned = ned_fe.transform(unlabel(dta))\n",
    "y_dev_ned = ned_le.transform(get_labels(dta))\n",
    "\n",
    "X_test_ned = ned_fe.transform(unlabel(dtb))\n",
    "y_test_ned = ned_le.transform(get_labels(dtb))"
   ]
  },
  {
   "cell_type": "markdown",
   "metadata": {
    "deletable": true,
    "editable": true
   },
   "source": [
    "We will be using a logistic regression classifier, which has a regularization parameter `C`. To optimize the parameter, we'll iterate over several values for `C`, train the classifier, and test it on `testa`, which is the development set."
   ]
  },
  {
   "cell_type": "code",
   "execution_count": 22,
   "metadata": {
    "collapsed": false,
    "deletable": true,
    "editable": true
   },
   "outputs": [
    {
     "data": {
      "image/png": "[encoded data removed]",
      "text/plain": [
       "<matplotlib.figure.Figure at 0x22cb9903a90>"
      ]
     },
     "metadata": {},
     "output_type": "display_data"
    }
   ],
   "source": [
    "def optimize_C(X_train, y_train, X_dev, y_dev):\n",
    "    Cs = [10 ** i for i in range(-3, 4)]\n",
    "    scores = []\n",
    "    for C in Cs:\n",
    "        clf = LogisticRegression(C=C).fit(X_train, y_train)\n",
    "        scores.append(clf.score(X_dev, y_dev))\n",
    "    plt.semilogx(Cs, scores, linestyle='-', marker='o')\n",
    "    C_opt = max(Cs, key=lambda C: dict(zip(Cs, scores))[C])\n",
    "    return C_opt\n",
    "    \n",
    "\n",
    "plt.grid(True)\n",
    "plt.title('Accuracy as a function of $C$')\n",
    "plt.xlabel('Value of $C$')\n",
    "plt.ylabel('Accuracy')\n",
    "C_opt_esp = optimize_C(X_train_esp, y_train_esp, X_dev_esp, y_dev_esp)\n",
    "C_opt_ned = optimize_C(X_train_ned, y_train_ned, X_dev_ned, y_dev_ned)\n",
    "plt.legend(['Spanish', 'Dutch'], loc='best');"
   ]
  },
  {
   "cell_type": "markdown",
   "metadata": {
    "deletable": true,
    "editable": true
   },
   "source": [
    "Okay, we got the optimal `C`s, now let's see how we do on the test set!"
   ]
  },
  {
   "cell_type": "code",
   "execution_count": 23,
   "metadata": {
    "collapsed": false,
    "deletable": true,
    "editable": true
   },
   "outputs": [
    {
     "name": "stdout",
     "output_type": "stream",
     "text": [
      "Spanish model accuracy: 96.19%\n",
      "Dutch model accuracy: 97.56%\n"
     ]
    }
   ],
   "source": [
    "def make_classifier(C):\n",
    "    return Pipeline([('get_features', NERFeatureExtractor()),\n",
    "                     ('vectorize', DictVectorizer()),\n",
    "                     ('classify', LogisticRegression(C=C))])\n",
    "\n",
    "spanish_clf = make_classifier(C_opt_esp)\n",
    "spanish_clf.fit(unlabel(etr), y_train_esp)\n",
    "print(\"Spanish model accuracy: %.2f%%\" % (100 * spanish_clf.score(unlabel(etb), y_test_esp),))\n",
    "\n",
    "dutch_clf = make_classifier(C_opt_ned)\n",
    "dutch_clf.fit(unlabel(dtr), y_train_ned)\n",
    "print(\"Dutch model accuracy: %.2f%%\" % (100 * dutch_clf.score(unlabel(dtb), y_test_ned),))"
   ]
  },
  {
   "cell_type": "markdown",
   "metadata": {
    "deletable": true,
    "editable": true
   },
   "source": [
    "Good enough for science!\n",
    "\n",
    "Please scroll to the next cell, nothing to see here but functions..."
   ]
  },
  {
   "cell_type": "code",
   "execution_count": 24,
   "metadata": {
    "collapsed": false,
    "deletable": true,
    "editable": true
   },
   "outputs": [],
   "source": [
    "def f1_precision_recall(clf, le, test):\n",
    "    y_pred = clf.predict(unlabel(test))\n",
    "    y_true = le.transform(get_labels(test))\n",
    "    stats_per_label = {}\n",
    "    for label in set(y_true):\n",
    "        # Fucking NumPy, so good...\n",
    "        tp = ((y_pred == label) & (y_true == label)).sum()\n",
    "        tn = ((y_pred != label) & (y_true != label)).sum()\n",
    "        fp = ((y_pred == label) & (y_true != label)).sum()\n",
    "        fn = ((y_pred != label) & (y_true == label)).sum()\n",
    "        precision = tp / (tp + fp)\n",
    "        recall = tp / (tp + fn)\n",
    "        f1_score = 2 * precision * recall / (precision + recall)\n",
    "        stats_per_label[label] = {'Precision': precision, 'Recall': recall, 'F1 Score': f1_score}\n",
    "    df = pd.DataFrame(stats_per_label).sort_values('F1 Score', axis=1).T\n",
    "    df.index = le.classes_\n",
    "    return df[['Precision', 'Recall','F1 Score']]\n",
    "\n",
    "\n",
    "def confusion_matrix(clf, le, test):\n",
    "    y_pred = clf.predict(unlabel(test))\n",
    "    y_true = le.transform(get_labels(test))\n",
    "\n",
    "    labels = np.array(list(sorted(set(y_true) | set(y_pred))))\n",
    "\n",
    "    sample_weight = np.ones(y_true.shape[0], dtype=np.int)\n",
    "\n",
    "    n_labels = labels.size\n",
    "    label_to_ind = dict((y, x) for x, y in enumerate(labels))\n",
    "    y_pred = np.array([label_to_ind.get(x, n_labels + 1) for x in y_pred])\n",
    "    y_true = np.array([label_to_ind.get(x, n_labels + 1) for x in y_true])\n",
    "    ind = np.logical_and(y_pred < n_labels, y_true < n_labels)\n",
    "    y_pred = y_pred[ind]\n",
    "    y_true = y_true[ind]\n",
    "    sample_weight = sample_weight[ind]\n",
    "\n",
    "    CM = coo_matrix((sample_weight, (y_true, y_pred)), shape=(n_labels, n_labels)).toarray()\n",
    "\n",
    "    return CM, labels\n",
    "\n",
    "\n",
    "def plot_confusion_matrix(cm, classes,\n",
    "                          title='Confusion matrix',\n",
    "                          cmap=plt.cm.Blues):\n",
    "    plt.imshow(cm, interpolation='nearest', cmap=cmap)\n",
    "    plt.title(title)\n",
    "    plt.colorbar()\n",
    "    tick_marks = np.arange(len(classes))\n",
    "    plt.xticks(tick_marks, classes, rotation=45)\n",
    "    plt.yticks(tick_marks, classes)\n",
    "    thresh = cm.max() / 2.\n",
    "    for i, j in itertools.product(range(cm.shape[0]), range(cm.shape[1])):\n",
    "        plt.text(j, i, cm[i, j],\n",
    "                 horizontalalignment=\"center\",\n",
    "                 color=\"white\" if cm[i, j] > thresh else \"black\")\n",
    "    plt.tight_layout()\n",
    "    plt.ylabel('True label')\n",
    "    plt.xlabel('Predicted label')"
   ]
  },
  {
   "cell_type": "markdown",
   "metadata": {
    "deletable": true,
    "editable": true
   },
   "source": [
    "Now let's do some \"nice-on-the-eyes\" things such as precision, recall, F1 score, and a pretty confusion matrix! Hooray for confusion matrix!\n",
    "\n",
    "First, Spanish:"
   ]
  },
  {
   "cell_type": "code",
   "execution_count": 25,
   "metadata": {
    "collapsed": false,
    "deletable": true,
    "editable": true
   },
   "outputs": [
    {
     "data": {
      "text/html": [
       "<div>\n",
       "<table border=\"1\" class=\"dataframe\">\n",
       "  <thead>\n",
       "    <tr style=\"text-align: right;\">\n",
       "      <th></th>\n",
       "      <th>Precision</th>\n",
       "      <th>Recall</th>\n",
       "      <th>F1 Score</th>\n",
       "    </tr>\n",
       "  </thead>\n",
       "  <tbody>\n",
       "    <tr>\n",
       "      <th>B-LOC</th>\n",
       "      <td>0.593567</td>\n",
       "      <td>0.364452</td>\n",
       "      <td>0.451613</td>\n",
       "    </tr>\n",
       "    <tr>\n",
       "      <th>B-MISC</th>\n",
       "      <td>0.535836</td>\n",
       "      <td>0.463127</td>\n",
       "      <td>0.496835</td>\n",
       "    </tr>\n",
       "    <tr>\n",
       "      <th>B-ORG</th>\n",
       "      <td>0.685590</td>\n",
       "      <td>0.483077</td>\n",
       "      <td>0.566787</td>\n",
       "    </tr>\n",
       "    <tr>\n",
       "      <th>B-PER</th>\n",
       "      <td>0.733483</td>\n",
       "      <td>0.593297</td>\n",
       "      <td>0.655984</td>\n",
       "    </tr>\n",
       "    <tr>\n",
       "      <th>I-LOC</th>\n",
       "      <td>0.766932</td>\n",
       "      <td>0.710332</td>\n",
       "      <td>0.737548</td>\n",
       "    </tr>\n",
       "    <tr>\n",
       "      <th>I-MISC</th>\n",
       "      <td>0.798644</td>\n",
       "      <td>0.841429</td>\n",
       "      <td>0.819478</td>\n",
       "    </tr>\n",
       "    <tr>\n",
       "      <th>I-ORG</th>\n",
       "      <td>0.828571</td>\n",
       "      <td>0.868027</td>\n",
       "      <td>0.847841</td>\n",
       "    </tr>\n",
       "    <tr>\n",
       "      <th>I-PER</th>\n",
       "      <td>0.812233</td>\n",
       "      <td>0.900631</td>\n",
       "      <td>0.854151</td>\n",
       "    </tr>\n",
       "    <tr>\n",
       "      <th>O</th>\n",
       "      <td>0.987321</td>\n",
       "      <td>0.997531</td>\n",
       "      <td>0.992400</td>\n",
       "    </tr>\n",
       "  </tbody>\n",
       "</table>\n",
       "</div>"
      ],
      "text/plain": [
       "        Precision    Recall  F1 Score\n",
       "B-LOC    0.593567  0.364452  0.451613\n",
       "B-MISC   0.535836  0.463127  0.496835\n",
       "B-ORG    0.685590  0.483077  0.566787\n",
       "B-PER    0.733483  0.593297  0.655984\n",
       "I-LOC    0.766932  0.710332  0.737548\n",
       "I-MISC   0.798644  0.841429  0.819478\n",
       "I-ORG    0.828571  0.868027  0.847841\n",
       "I-PER    0.812233  0.900631  0.854151\n",
       "O        0.987321  0.997531  0.992400"
      ]
     },
     "execution_count": 25,
     "metadata": {},
     "output_type": "execute_result"
    },
    {
     "data": {
      "image/png": "[encoded data removed]",
      "text/plain": [
       "<matplotlib.figure.Figure at 0x22cb199d940>"
      ]
     },
     "metadata": {},
     "output_type": "display_data"
    }
   ],
   "source": [
    "cm, labels = confusion_matrix(spanish_clf, esp_le, etb)\n",
    "plt.figure(figsize=(10, 10))\n",
    "plot_confusion_matrix(cm, esp_le.classes_, title='Spanish NER Confusion Matrix')\n",
    "f1_precision_recall(spanish_clf, esp_le, etb)"
   ]
  },
  {
   "cell_type": "markdown",
   "metadata": {
    "deletable": true,
    "editable": true
   },
   "source": [
    "Last (and maybe least, I don't judge), Dutch:"
   ]
  },
  {
   "cell_type": "code",
   "execution_count": 26,
   "metadata": {
    "collapsed": false,
    "deletable": true,
    "editable": true
   },
   "outputs": [
    {
     "data": {
      "text/html": [
       "<div>\n",
       "<table border=\"1\" class=\"dataframe\">\n",
       "  <thead>\n",
       "    <tr style=\"text-align: right;\">\n",
       "      <th></th>\n",
       "      <th>Precision</th>\n",
       "      <th>Recall</th>\n",
       "      <th>F1 Score</th>\n",
       "    </tr>\n",
       "  </thead>\n",
       "  <tbody>\n",
       "    <tr>\n",
       "      <th>B-LOC</th>\n",
       "      <td>0.617117</td>\n",
       "      <td>0.334146</td>\n",
       "      <td>0.433544</td>\n",
       "    </tr>\n",
       "    <tr>\n",
       "      <th>B-MISC</th>\n",
       "      <td>0.530612</td>\n",
       "      <td>0.530612</td>\n",
       "      <td>0.530612</td>\n",
       "    </tr>\n",
       "    <tr>\n",
       "      <th>B-ORG</th>\n",
       "      <td>0.804749</td>\n",
       "      <td>0.553539</td>\n",
       "      <td>0.655914</td>\n",
       "    </tr>\n",
       "    <tr>\n",
       "      <th>B-PER</th>\n",
       "      <td>0.766798</td>\n",
       "      <td>0.659864</td>\n",
       "      <td>0.709324</td>\n",
       "    </tr>\n",
       "    <tr>\n",
       "      <th>I-LOC</th>\n",
       "      <td>0.801914</td>\n",
       "      <td>0.705981</td>\n",
       "      <td>0.750896</td>\n",
       "    </tr>\n",
       "    <tr>\n",
       "      <th>I-MISC</th>\n",
       "      <td>0.761084</td>\n",
       "      <td>0.844262</td>\n",
       "      <td>0.800518</td>\n",
       "    </tr>\n",
       "    <tr>\n",
       "      <th>I-ORG</th>\n",
       "      <td>0.832425</td>\n",
       "      <td>0.789406</td>\n",
       "      <td>0.810345</td>\n",
       "    </tr>\n",
       "    <tr>\n",
       "      <th>I-PER</th>\n",
       "      <td>0.751817</td>\n",
       "      <td>0.897150</td>\n",
       "      <td>0.818079</td>\n",
       "    </tr>\n",
       "    <tr>\n",
       "      <th>O</th>\n",
       "      <td>0.992757</td>\n",
       "      <td>0.998875</td>\n",
       "      <td>0.995806</td>\n",
       "    </tr>\n",
       "  </tbody>\n",
       "</table>\n",
       "</div>"
      ],
      "text/plain": [
       "        Precision    Recall  F1 Score\n",
       "B-LOC    0.617117  0.334146  0.433544\n",
       "B-MISC   0.530612  0.530612  0.530612\n",
       "B-ORG    0.804749  0.553539  0.655914\n",
       "B-PER    0.766798  0.659864  0.709324\n",
       "I-LOC    0.801914  0.705981  0.750896\n",
       "I-MISC   0.761084  0.844262  0.800518\n",
       "I-ORG    0.832425  0.789406  0.810345\n",
       "I-PER    0.751817  0.897150  0.818079\n",
       "O        0.992757  0.998875  0.995806"
      ]
     },
     "execution_count": 26,
     "metadata": {},
     "output_type": "execute_result"
    },
    {
     "data": {
      "image/png": "[encoded data removed]",
      "text/plain": [
       "<matplotlib.figure.Figure at 0x22cb9f1bda0>"
      ]
     },
     "metadata": {},
     "output_type": "display_data"
    }
   ],
   "source": [
    "cm, labels = confusion_matrix(dutch_clf, ned_le, dtb)\n",
    "plt.figure(figsize=(10, 10))\n",
    "plot_confusion_matrix(cm, ned_le.classes_, title='Dutch NER Confusion Matrix')\n",
    "f1_precision_recall(dutch_clf, ned_le, dtb)"
   ]
  },
  {
   "cell_type": "markdown",
   "metadata": {
    "deletable": true,
    "editable": true
   },
   "source": [
    "Wow. That actually kinda sucks. Yay, we know when we're **not** in a named entity. Go home, everybody, nothing to see here but shame..."
   ]
  },
  {
   "cell_type": "markdown",
   "metadata": {
    "deletable": true,
    "editable": true
   },
   "source": [
    "### Q2.2 HMM and Viterbi"
   ]
  },
  {
   "cell_type": "markdown",
   "metadata": {
    "deletable": true,
    "editable": true
   },
   "source": [
    "#### 2.2.1"
   ]
  },
  {
   "cell_type": "code",
   "execution_count": 27,
   "metadata": {
    "collapsed": true,
    "deletable": true,
    "editable": true
   },
   "outputs": [],
   "source": [
    "class HiddenMarkovModel:\n",
    "    def __init__(self, train, gamma=0.5):\n",
    "        train = [[tuple('***'), tuple('***')] + sent + [('STOP',) * 3] for sent in train]\n",
    "        tags = [tag for sent in train for _, _, tag in sent]\n",
    "        tag_cfd = nltk.ConditionalFreqDist([((u, v), w) for u, v, w in nltk.trigrams(tags)])\n",
    "        tag_words_cfd = nltk.ConditionalFreqDist([(tag, word) for sent in train for word, _, tag in sent])\n",
    "        \n",
    "        self.tags = frozenset(tags)\n",
    "        self.q = nltk.ConditionalProbDist(tag_cfd, nltk.MLEProbDist)\n",
    "        self.e = nltk.ConditionalProbDist(tag_words_cfd, lambda fd: nltk.LidstoneProbDist(fd, gamma))\n",
    "        self.tag2idx = {tag: i for tag, i in zip(self.tags, range(len(self.tags)))}\n",
    "        self.idx2tag = {i: tag for tag, i in zip(self.tags, range(len(self.tags)))}\n",
    "\n",
    "    def viterbi(self, sent):\n",
    "        x = sent\n",
    "        n = len(sent)\n",
    "        K = {i: self.tags for i in range(n + 1)}\n",
    "        K[-1] = K[0] = {'*'}\n",
    "        pi, bp = {}, {}\n",
    "        pi[0, '*', '*'] = 0\n",
    "        for k in range(1, n + 1):\n",
    "            for u, v in itertools.product(K[k-1], K[k]):\n",
    "                max_, argmax_ = max([(pi[k - 1, w, u] + self.q[w, u].logprob(v) + self.e[v].logprob(x[k - 1]), w)\n",
    "                                     for w in K[k - 2]])\n",
    "                pi[k, u, v] = max_\n",
    "                bp[k, u, v] = argmax_\n",
    "        y = [None] * (n + 1)\n",
    "        y[-2:] = max([[u, v] for u, v in itertools.product(K[n-1], K[n])],\n",
    "                     key=lambda uv: pi[n, uv[0], uv[1]] + self.q[uv[0], uv[1]].logprob('STOP'))\n",
    "        for k in range(n - 2, 0, -1):\n",
    "            y[k] = bp[k + 2, y[k + 1], y[k + 2]]\n",
    "        return y[1:]\n",
    "    \n",
    "    def evaluate(self, test):\n",
    "        sents = [[w for w, _, _ in sent] for sent in test]\n",
    "        tags = [[t for _, _, t in sent] for sent in test]\n",
    "        y_true = [self.tag2idx[t] for sent in tags for t in sent]\n",
    "        y_pred = [self.tag2idx[t] for sent in sents for t in self.viterbi(sent)]\n",
    "        return np.equal(y_true, y_pred).mean()"
   ]
  },
  {
   "cell_type": "code",
   "execution_count": 28,
   "metadata": {
    "collapsed": false,
    "deletable": true,
    "editable": true
   },
   "outputs": [
    {
     "data": {
      "image/png": "[encoded data removed]",
      "text/plain": [
       "<matplotlib.figure.Figure at 0x22cd29780f0>"
      ]
     },
     "metadata": {},
     "output_type": "display_data"
    }
   ],
   "source": [
    "gammas = np.linspace(0.1, 1, 10)\n",
    "scores = []\n",
    "for gamma in gammas:\n",
    "    hmm = HiddenMarkovModel(etr, gamma=gamma)\n",
    "    scores.append(hmm.evaluate(eta))\n",
    "plt.title('Accuracy as a function of $\\gamma$')\n",
    "plt.xlabel('$\\gamma$')\n",
    "plt.ylabel('Accuracy')\n",
    "plt.grid(True)\n",
    "plt.plot(gammas, scores, linestyle='-', marker='o');"
   ]
  },
  {
   "cell_type": "code",
   "execution_count": 29,
   "metadata": {
    "collapsed": false,
    "deletable": true,
    "editable": true
   },
   "outputs": [
    {
     "name": "stdout",
     "output_type": "stream",
     "text": [
      "HMM achieves an accuracy of 91.68%.\n"
     ]
    }
   ],
   "source": [
    "gamma_opt = max(gammas, key=lambda gamma: dict(zip(gammas, scores))[gamma])\n",
    "hmm = HiddenMarkovModel(etr, gamma=gamma_opt)\n",
    "print('HMM achieves an accuracy of %.2f%%.' % (100 * hmm.evaluate(etb)))"
   ]
  },
  {
   "cell_type": "markdown",
   "metadata": {
    "deletable": true,
    "editable": true
   },
   "source": [
    "### Q2.3 Using Word Embeddings"
   ]
  },
  {
   "cell_type": "markdown",
   "metadata": {
    "deletable": true,
    "editable": true
   },
   "source": [
    "We'll load some trained word2vec models for Spanish and Dutch, and use `init_sims(replace=True)` because Gensim-Man says it takes less memory."
   ]
  },
  {
   "cell_type": "code",
   "execution_count": 30,
   "metadata": {
    "collapsed": false,
    "deletable": true,
    "editable": true
   },
   "outputs": [],
   "source": [
    "esp_model = gensim.models.keyedvectors.KeyedVectors.load_word2vec_format('sbw_vectors.bin', binary=True)\n",
    "esp_model.init_sims(replace=True)\n",
    "\n",
    "ned_model = gensim.models.keyedvectors.KeyedVectors.load_word2vec_format('dutch_combined-320.txt')\n",
    "ned_model.init_sims(replace=True)"
   ]
  },
  {
   "cell_type": "markdown",
   "metadata": {
    "deletable": true,
    "editable": true
   },
   "source": [
    "Now we define a new transformer to use in our pipeline: this transformer takes the word form features, and constructs a 900-dimensional vector made from the vector for the previous word, the current word, and the next word. If a word does not exist in the model, we put zero vector instead. We also tried averaging the three vectors to construct one 300-dimensional vector, and it didn't do as well as concatenation."
   ]
  },
  {
   "cell_type": "code",
   "execution_count": 33,
   "metadata": {
    "collapsed": false,
    "deletable": true,
    "editable": true
   },
   "outputs": [],
   "source": [
    "class EmbeddingsExtractor(TransformerMixin):\n",
    "    def __init__(self, embeddings_model):\n",
    "        self.model = embeddings_model\n",
    "        self.words = set(self.model.index2word)\n",
    "        self.size = self.model.syn0.shape[1]\n",
    "    \n",
    "    def transform(self, X):\n",
    "        embeddings = []\n",
    "        for sent in X:\n",
    "            for i, (word, _) in enumerate(sent):\n",
    "                embedding = np.zeros((3*self.size,))\n",
    "                \n",
    "                if i > 0 and sent[i-1][0] in self.words:\n",
    "                    embedding[:self.size] = self.model[sent[i-1][0]]\n",
    "                if word in self.words and word not in ('-START-', '-END-'):\n",
    "                    embedding[self.size:2*self.size] = self.model[word]\n",
    "                if i < len(sent) - 1 and sent[i+1][0] in self.words:\n",
    "                    embedding[2*self.size:] = self.model[sent[i+1][0]]\n",
    "                \n",
    "                embeddings.append(embedding)\n",
    "        return embeddings\n",
    "    \n",
    "    def fit(self, X, y=None):\n",
    "        return self"
   ]
  },
  {
   "cell_type": "markdown",
   "metadata": {
    "deletable": true,
    "editable": true
   },
   "source": [
    "Like before, it's time to see the classifiers' score on the test set:"
   ]
  },
  {
   "cell_type": "code",
   "execution_count": 34,
   "metadata": {
    "collapsed": false,
    "deletable": true,
    "editable": true
   },
   "outputs": [
    {
     "name": "stdout",
     "output_type": "stream",
     "text": [
      "Spanish model w/embeddings accuracy: 96.79%\n",
      "Dutch model w/embeddings accuracy: 97.71%\n"
     ]
    }
   ],
   "source": [
    "def make_classifier_with_embeddings(C, word2vec_model):\n",
    "    return Pipeline([\n",
    "        ('get_features', FeatureUnion([\n",
    "            ('word_forms_and_tags', Pipeline([\n",
    "                ('extract', NERFeatureExtractor()),\n",
    "                ('vectorize', DictVectorizer())\n",
    "            ])),\n",
    "            ('word_embeddings', EmbeddingsExtractor(word2vec_model))\n",
    "        ])),\n",
    "        ('classify', LogisticRegression(C=C))\n",
    "    ])\n",
    "\n",
    "w2v_spanish_clf = make_classifier_with_embeddings(C_opt_esp, esp_model)\n",
    "w2v_spanish_clf.fit(unlabel(etr), y_train_esp)\n",
    "print(\"Spanish model w/embeddings accuracy: %.2f%%\" % (100 * w2v_spanish_clf.score(unlabel(etb), y_test_esp),))\n",
    "del esp_model\n",
    "\n",
    "w2v_dutch_clf = make_classifier_with_embeddings(C_opt_ned, ned_model)\n",
    "w2v_dutch_clf.fit(unlabel(dtr), y_train_ned)\n",
    "print(\"Dutch model w/embeddings accuracy: %.2f%%\" % (100 * w2v_dutch_clf.score(unlabel(dtb), y_test_ned),))\n",
    "del ned_model"
   ]
  },
  {
   "cell_type": "markdown",
   "metadata": {
    "deletable": true,
    "editable": true
   },
   "source": [
    "Wow. Talk about a letdown, eh? Less than 0.5% difference...\n",
    "\n",
    "Oh well, you know the drill: precision, recall, F1 score, and pretty colors.\n",
    "\n",
    "This time, Dutch goes first:"
   ]
  },
  {
   "cell_type": "code",
   "execution_count": 35,
   "metadata": {
    "collapsed": false,
    "deletable": true,
    "editable": true
   },
   "outputs": [
    {
     "data": {
      "text/html": [
       "<div>\n",
       "<table border=\"1\" class=\"dataframe\">\n",
       "  <thead>\n",
       "    <tr style=\"text-align: right;\">\n",
       "      <th></th>\n",
       "      <th>Precision</th>\n",
       "      <th>Recall</th>\n",
       "      <th>F1 Score</th>\n",
       "    </tr>\n",
       "  </thead>\n",
       "  <tbody>\n",
       "    <tr>\n",
       "      <th>B-LOC</th>\n",
       "      <td>0.631799</td>\n",
       "      <td>0.368293</td>\n",
       "      <td>0.465331</td>\n",
       "    </tr>\n",
       "    <tr>\n",
       "      <th>B-MISC</th>\n",
       "      <td>0.619048</td>\n",
       "      <td>0.530612</td>\n",
       "      <td>0.571429</td>\n",
       "    </tr>\n",
       "    <tr>\n",
       "      <th>B-ORG</th>\n",
       "      <td>0.790155</td>\n",
       "      <td>0.553539</td>\n",
       "      <td>0.651014</td>\n",
       "    </tr>\n",
       "    <tr>\n",
       "      <th>B-PER</th>\n",
       "      <td>0.776610</td>\n",
       "      <td>0.670068</td>\n",
       "      <td>0.719416</td>\n",
       "    </tr>\n",
       "    <tr>\n",
       "      <th>I-LOC</th>\n",
       "      <td>0.821497</td>\n",
       "      <td>0.721146</td>\n",
       "      <td>0.768057</td>\n",
       "    </tr>\n",
       "    <tr>\n",
       "      <th>I-MISC</th>\n",
       "      <td>0.782285</td>\n",
       "      <td>0.860656</td>\n",
       "      <td>0.819601</td>\n",
       "    </tr>\n",
       "    <tr>\n",
       "      <th>I-ORG</th>\n",
       "      <td>0.837116</td>\n",
       "      <td>0.810078</td>\n",
       "      <td>0.823375</td>\n",
       "    </tr>\n",
       "    <tr>\n",
       "      <th>I-PER</th>\n",
       "      <td>0.781152</td>\n",
       "      <td>0.924411</td>\n",
       "      <td>0.846765</td>\n",
       "    </tr>\n",
       "    <tr>\n",
       "      <th>O</th>\n",
       "      <td>0.992991</td>\n",
       "      <td>0.998907</td>\n",
       "      <td>0.995940</td>\n",
       "    </tr>\n",
       "  </tbody>\n",
       "</table>\n",
       "</div>"
      ],
      "text/plain": [
       "        Precision    Recall  F1 Score\n",
       "B-LOC    0.631799  0.368293  0.465331\n",
       "B-MISC   0.619048  0.530612  0.571429\n",
       "B-ORG    0.790155  0.553539  0.651014\n",
       "B-PER    0.776610  0.670068  0.719416\n",
       "I-LOC    0.821497  0.721146  0.768057\n",
       "I-MISC   0.782285  0.860656  0.819601\n",
       "I-ORG    0.837116  0.810078  0.823375\n",
       "I-PER    0.781152  0.924411  0.846765\n",
       "O        0.992991  0.998907  0.995940"
      ]
     },
     "execution_count": 35,
     "metadata": {},
     "output_type": "execute_result"
    },
    {
     "data": {
      "image/png": "[encoded data removed]",
      "text/plain": [
       "<matplotlib.figure.Figure at 0x22cc18b1470>"
      ]
     },
     "metadata": {},
     "output_type": "display_data"
    }
   ],
   "source": [
    "cm, labels = confusion_matrix(w2v_dutch_clf, ned_le, dtb)\n",
    "plt.figure(figsize=(10, 10))\n",
    "plot_confusion_matrix(cm, ned_le.classes_, title='Dutch NER Confusion Matrix')\n",
    "f1_precision_recall(w2v_dutch_clf, ned_le, dtb)"
   ]
  },
  {
   "cell_type": "markdown",
   "metadata": {
    "deletable": true,
    "editable": true
   },
   "source": [
    "Spanish:"
   ]
  },
  {
   "cell_type": "code",
   "execution_count": 36,
   "metadata": {
    "collapsed": false,
    "deletable": true,
    "editable": true
   },
   "outputs": [
    {
     "data": {
      "text/html": [
       "<div>\n",
       "<table border=\"1\" class=\"dataframe\">\n",
       "  <thead>\n",
       "    <tr style=\"text-align: right;\">\n",
       "      <th></th>\n",
       "      <th>Precision</th>\n",
       "      <th>Recall</th>\n",
       "      <th>F1 Score</th>\n",
       "    </tr>\n",
       "  </thead>\n",
       "  <tbody>\n",
       "    <tr>\n",
       "      <th>B-LOC</th>\n",
       "      <td>0.594937</td>\n",
       "      <td>0.421903</td>\n",
       "      <td>0.493697</td>\n",
       "    </tr>\n",
       "    <tr>\n",
       "      <th>B-MISC</th>\n",
       "      <td>0.538710</td>\n",
       "      <td>0.492625</td>\n",
       "      <td>0.514638</td>\n",
       "    </tr>\n",
       "    <tr>\n",
       "      <th>B-ORG</th>\n",
       "      <td>0.692913</td>\n",
       "      <td>0.541538</td>\n",
       "      <td>0.607945</td>\n",
       "    </tr>\n",
       "    <tr>\n",
       "      <th>B-PER</th>\n",
       "      <td>0.770153</td>\n",
       "      <td>0.640399</td>\n",
       "      <td>0.699308</td>\n",
       "    </tr>\n",
       "    <tr>\n",
       "      <th>I-LOC</th>\n",
       "      <td>0.786389</td>\n",
       "      <td>0.767528</td>\n",
       "      <td>0.776844</td>\n",
       "    </tr>\n",
       "    <tr>\n",
       "      <th>I-MISC</th>\n",
       "      <td>0.820240</td>\n",
       "      <td>0.880000</td>\n",
       "      <td>0.849070</td>\n",
       "    </tr>\n",
       "    <tr>\n",
       "      <th>I-ORG</th>\n",
       "      <td>0.893179</td>\n",
       "      <td>0.944218</td>\n",
       "      <td>0.917989</td>\n",
       "    </tr>\n",
       "    <tr>\n",
       "      <th>I-PER</th>\n",
       "      <td>0.908397</td>\n",
       "      <td>0.938486</td>\n",
       "      <td>0.923196</td>\n",
       "    </tr>\n",
       "    <tr>\n",
       "      <th>O</th>\n",
       "      <td>0.990737</td>\n",
       "      <td>0.997486</td>\n",
       "      <td>0.994100</td>\n",
       "    </tr>\n",
       "  </tbody>\n",
       "</table>\n",
       "</div>"
      ],
      "text/plain": [
       "        Precision    Recall  F1 Score\n",
       "B-LOC    0.594937  0.421903  0.493697\n",
       "B-MISC   0.538710  0.492625  0.514638\n",
       "B-ORG    0.692913  0.541538  0.607945\n",
       "B-PER    0.770153  0.640399  0.699308\n",
       "I-LOC    0.786389  0.767528  0.776844\n",
       "I-MISC   0.820240  0.880000  0.849070\n",
       "I-ORG    0.893179  0.944218  0.917989\n",
       "I-PER    0.908397  0.938486  0.923196\n",
       "O        0.990737  0.997486  0.994100"
      ]
     },
     "execution_count": 36,
     "metadata": {},
     "output_type": "execute_result"
    },
    {
     "data": {
      "image/png": "[encoded data removed]",
      "text/plain": [
       "<matplotlib.figure.Figure at 0x22cd02d5748>"
      ]
     },
     "metadata": {},
     "output_type": "display_data"
    }
   ],
   "source": [
    "cm, labels = confusion_matrix(w2v_spanish_clf, esp_le, etb)\n",
    "plt.figure(figsize=(10, 10))\n",
    "plot_confusion_matrix(cm, esp_le.classes_, title='Spanish NER Confusion Matrix')\n",
    "f1_precision_recall(w2v_spanish_clf, esp_le, etb)"
   ]
  },
  {
   "cell_type": "markdown",
   "metadata": {
    "deletable": true,
    "editable": true
   },
   "source": [
    "## Q3. RNN (LSTM) for Document Classification"
   ]
  },
  {
   "cell_type": "markdown",
   "metadata": {
    "deletable": true,
    "editable": true
   },
   "source": [
    "### Q3.1 Run the example"
   ]
  },
  {
   "cell_type": "code",
   "execution_count": 37,
   "metadata": {
    "collapsed": false,
    "deletable": true,
    "editable": true
   },
   "outputs": [
    {
     "name": "stdout",
     "output_type": "stream",
     "text": [
      "Training Step: 7039  | total loss: \u001b[1m\u001b[32m0.09047\u001b[0m\u001b[0m | time: 48.412s\n",
      "| Adam | epoch: 010 | loss: 0.09047 - acc: 0.9803 -- iter: 22496/22500\n",
      "Training Step: 7040  | total loss: \u001b[1m\u001b[32m0.09623\u001b[0m\u001b[0m | time: 49.893s\n",
      "| Adam | epoch: 010 | loss: 0.09623 - acc: 0.9792 | val_loss: 0.69106 - val_acc: 0.8124 -- iter: 22500/22500\n",
      "--\n"
     ]
    }
   ],
   "source": [
    "# IMDB Dataset loading\n",
    "(X_train, y_train), (X_val, y_val), (X_test, y_test) = imdb.load_data(path='imdb.pkl', n_words=10000, valid_portion=0.1)\n",
    "\n",
    "# Data preprocessing\n",
    "\n",
    "## Sequence padding\n",
    "X_train = pad_sequences(X_train, maxlen=100, value=0.)\n",
    "X_val = pad_sequences(X_val, maxlen=100, value=0.)\n",
    "X_test = pad_sequences(X_test, maxlen=100, value=0.)\n",
    "\n",
    "## Converting labels to binary vectors\n",
    "y_train = to_categorical(y_train, nb_classes=2)\n",
    "y_val = to_categorical(y_val, nb_classes=2)\n",
    "y_test = to_categorical(y_test, nb_classes=2)\n",
    "\n",
    "# Network building\n",
    "\n",
    "net = tflearn.input_data([None, 100])\n",
    "net = tflearn.embedding(net, input_dim=10000, output_dim=128)\n",
    "net = tflearn.lstm(net, 128, dropout=0.8)\n",
    "net = tflearn.fully_connected(net, 2, activation='softmax')\n",
    "net = tflearn.regression(net, optimizer='adam', learning_rate=0.001, loss='categorical_crossentropy')\n",
    "\n",
    "# Training\n",
    "\n",
    "lstm_model = tflearn.DNN(net)\n",
    "lstm_model.fit(X_train, y_train, validation_set=(X_val, y_val), show_metric=True, batch_size=32, run_id='lstm')"
   ]
  },
  {
   "cell_type": "code",
   "execution_count": 38,
   "metadata": {
    "collapsed": false,
    "deletable": true,
    "editable": true
   },
   "outputs": [
    {
     "name": "stdout",
     "output_type": "stream",
     "text": [
      "LSTM score on IMDb test set: 76.72%\n"
     ]
    }
   ],
   "source": [
    "print('LSTM score on IMDb test set: %.2f%%' % (100 * lstm_model.evaluate(X_test, y_test, batch_size=32)[0]))"
   ]
  },
  {
   "cell_type": "markdown",
   "metadata": {
    "deletable": true,
    "editable": true
   },
   "source": [
    "#### TensorBoard\n",
    "\n",
    "##### Accuracy:\n",
    "\n",
    "![](q31_accuracy.png)\n",
    "\n",
    "##### Loss:\n",
    "\n",
    "![](q31_loss.png)\n",
    "\n",
    "##### Graphs:\n",
    "\n",
    "![](q31_graphs.png)"
   ]
  },
  {
   "cell_type": "markdown",
   "metadata": {
    "deletable": true,
    "editable": true
   },
   "source": [
    "### Q3.2 MLP Baseline"
   ]
  },
  {
   "cell_type": "code",
   "execution_count": 39,
   "metadata": {
    "collapsed": false,
    "deletable": true,
    "editable": true
   },
   "outputs": [
    {
     "name": "stdout",
     "output_type": "stream",
     "text": [
      "Training Step: 1407  | total loss: \u001b[1m\u001b[32m0.21843\u001b[0m\u001b[0m | time: 5.994s\n",
      "| Adam | epoch: 002 | loss: 0.21843 - acc: 0.9024 -- iter: 22496/22500\n",
      "Training Step: 1408  | total loss: \u001b[1m\u001b[32m0.21779\u001b[0m\u001b[0m | time: 7.074s\n",
      "| Adam | epoch: 002 | loss: 0.21779 - acc: 0.9028 | val_loss: 0.26319 - val_acc: 0.8944 -- iter: 22500/22500\n",
      "--\n"
     ]
    }
   ],
   "source": [
    "def onehot(seqs):\n",
    "    X = np.zeros((len(seqs), 10000), dtype=np.uint8)\n",
    "    for i, seq in enumerate(seqs):\n",
    "        for j in seq:\n",
    "            if j < 10000:\n",
    "                X[i, j] = 1\n",
    "    return X\n",
    "\n",
    "\n",
    "# IMDB Dataset loading\n",
    "(X_train, y_train), (X_val, y_val), (X_test, y_test) = imdb.load_data(path='imdb.pkl', n_words=10000, valid_portion=0.1)\n",
    "\n",
    "# Data preprocessing\n",
    "\n",
    "## One-Hot encoding\n",
    "X_train = onehot(X_train)\n",
    "X_val = onehot(X_val)\n",
    "X_test = onehot(X_test)\n",
    "\n",
    "## Converting labels to binary vectors\n",
    "y_train = to_categorical(y_train, nb_classes=2)\n",
    "y_val = to_categorical(y_val, nb_classes=2)\n",
    "y_test = to_categorical(y_test, nb_classes=2)\n",
    "\n",
    "# Network building\n",
    "\n",
    "tf.reset_default_graph()\n",
    "\n",
    "net = tflearn.input_data([None, 10000])\n",
    "net = tflearn.fully_connected(net, 256, activation='relu')\n",
    "net = tflearn.dropout(net, keep_prob=0.2)\n",
    "net = tflearn.fully_connected(net, 2, activation='softmax')\n",
    "net = tflearn.regression(net, optimizer='adam', learning_rate=0.001, loss='categorical_crossentropy')\n",
    "\n",
    "# Training (only 2 epochs, it overfits super-fast)\n",
    "\n",
    "mlp_model = tflearn.DNN(net)\n",
    "mlp_model.fit(X_train, y_train, n_epoch=2, validation_set=(X_val, y_val), show_metric=True, batch_size=32, run_id='mlp')"
   ]
  },
  {
   "cell_type": "code",
   "execution_count": 40,
   "metadata": {
    "collapsed": false,
    "deletable": true,
    "editable": true
   },
   "outputs": [
    {
     "name": "stdout",
     "output_type": "stream",
     "text": [
      "Multi-layer Perceptron score on IMDb test set: 88.68%\n"
     ]
    }
   ],
   "source": [
    "print('Multi-layer Perceptron score on IMDb test set: %.2f%%' % (100 * mlp_model.evaluate(X_test, y_test, batch_size=32)[0]))"
   ]
  },
  {
   "cell_type": "markdown",
   "metadata": {
    "deletable": true,
    "editable": true
   },
   "source": [
    "### Q3.3 Reuters Classification in TFLearn"
   ]
  },
  {
   "cell_type": "markdown",
   "metadata": {
    "collapsed": true,
    "deletable": true,
    "editable": true
   },
   "source": [
    "#### 3.3.1"
   ]
  },
  {
   "cell_type": "markdown",
   "metadata": {
    "deletable": true,
    "editable": true
   },
   "source": [
    "First, create the index $\\leftrightarrow$ word mapping."
   ]
  },
  {
   "cell_type": "code",
   "execution_count": 41,
   "metadata": {
    "collapsed": true,
    "deletable": true,
    "editable": true
   },
   "outputs": [],
   "source": [
    "WORD2ID = reuters.get_word_index()\n",
    "ID2WORD = {id_: word for word, id_ in WORD2ID.items()}"
   ]
  },
  {
   "cell_type": "markdown",
   "metadata": {
    "deletable": true,
    "editable": true
   },
   "source": [
    "We have to account for the fact that some words have no ID, and some IDs don't have words (e.g. zero)."
   ]
  },
  {
   "cell_type": "code",
   "execution_count": 42,
   "metadata": {
    "collapsed": true,
    "deletable": true,
    "editable": true
   },
   "outputs": [],
   "source": [
    "def encode_doc(string):\n",
    "    words = word_tokenize(string)\n",
    "    return [WORD2ID.get(w, 0) for w in words]\n",
    "\n",
    "\n",
    "def decode_doc(ids):\n",
    "    return [ID2WORD.get(id_, 'UNK') for id_ in ids]"
   ]
  },
  {
   "cell_type": "markdown",
   "metadata": {
    "collapsed": true,
    "deletable": true,
    "editable": true
   },
   "source": [
    "#### 3.3.2"
   ]
  },
  {
   "cell_type": "markdown",
   "metadata": {
    "deletable": true,
    "editable": true
   },
   "source": [
    "Let's prepare our dataset. Unlike IMDb, we have to create a validation set ourselves. We do that by taking half of the test set.\n",
    "\n",
    "What is similar to IMDb is how we handle our input: we want no more than the top 10,000 words to appear in the training set, and the sequences must be no longer than 100 words."
   ]
  },
  {
   "cell_type": "code",
   "execution_count": 43,
   "metadata": {
    "collapsed": false,
    "deletable": true,
    "editable": true
   },
   "outputs": [],
   "source": [
    "# Reuters Dataset loading\n",
    "(X_train, y_train), (X_test, y_test) = reuters.load_data(nb_words=10000, maxlen=100)\n",
    "X_val = X_test[:len(X_test)//2]\n",
    "y_val = y_test[:len(y_test)//2]\n",
    "X_test = X_test[len(X_test)//2:]\n",
    "y_test = y_test[len(y_test)//2:]\n",
    "\n",
    "# Data preprocessing\n",
    "\n",
    "## Sequence padding\n",
    "X_train = pad_sequences(X_train, maxlen=100)\n",
    "X_val = pad_sequences(X_val, maxlen=100)\n",
    "X_test = pad_sequences(X_test, maxlen=100)\n",
    "\n",
    "## Converting labels to vectors\n",
    "nb_classes = np.max(y_train) + 1\n",
    "y_train = to_categorical(y_train, nb_classes=nb_classes)\n",
    "y_val = to_categorical(y_val, nb_classes=nb_classes)\n",
    "y_test = to_categorical(y_test, nb_classes=nb_classes)"
   ]
  },
  {
   "cell_type": "markdown",
   "metadata": {
    "deletable": true,
    "editable": true
   },
   "source": [
    "We blatantly copy TFLearn's LSTM implementation for IMDb and use it for Reuters."
   ]
  },
  {
   "cell_type": "code",
   "execution_count": 44,
   "metadata": {
    "collapsed": false,
    "deletable": true,
    "editable": true
   },
   "outputs": [
    {
     "name": "stdout",
     "output_type": "stream",
     "text": [
      "Training Step: 1499  | total loss: \u001b[1m\u001b[32m1.30599\u001b[0m\u001b[0m | time: 10.341s\n",
      "| Adam | epoch: 010 | loss: 1.30599 - acc: 0.7185 -- iter: 4768/4777\n",
      "Training Step: 1500  | total loss: \u001b[1m\u001b[32m1.37356\u001b[0m\u001b[0m | time: 11.415s\n",
      "| Adam | epoch: 010 | loss: 1.37356 - acc: 0.6967 | val_loss: 1.33013 - val_acc: 0.7119 -- iter: 4777/4777\n",
      "--\n"
     ]
    }
   ],
   "source": [
    "tf.reset_default_graph()\n",
    "\n",
    "# Network building\n",
    "net = tflearn.input_data([None, 100])\n",
    "net = tflearn.embedding(net, input_dim=10000, output_dim=128)\n",
    "net = tflearn.lstm(net, 128, dropout=0.8)\n",
    "net = tflearn.fully_connected(net, nb_classes, activation='softmax')\n",
    "net = tflearn.regression(net, optimizer='adam', learning_rate=0.001, loss='categorical_crossentropy')\n",
    "\n",
    "# Training\n",
    "model = tflearn.DNN(net)\n",
    "model.fit(X_train, y_train, n_epoch=10, validation_set=(X_val, y_val), show_metric=True, batch_size=32, run_id='reuters_lstm')"
   ]
  },
  {
   "cell_type": "code",
   "execution_count": 45,
   "metadata": {
    "collapsed": false,
    "deletable": true,
    "editable": true
   },
   "outputs": [
    {
     "name": "stdout",
     "output_type": "stream",
     "text": [
      "LSTM score on Reuters test set: 66.22%\n"
     ]
    }
   ],
   "source": [
    "print('LSTM score on Reuters test set: %.2f%%' % (100 * model.evaluate(X_test, y_test, batch_size=32)[0]))"
   ]
  },
  {
   "cell_type": "markdown",
   "metadata": {},
   "source": [
    "#### TensorBoard\n",
    "\n",
    "##### Accuracy:\n",
    "\n",
    "![](q332_accuracy.png)\n",
    "\n",
    "##### Loss:\n",
    "\n",
    "![](q332_loss.png)\n",
    "\n",
    "##### Graphs:\n",
    "\n",
    "![](q332_graphs.png)"
   ]
  },
  {
   "cell_type": "markdown",
   "metadata": {
    "deletable": true,
    "editable": true
   },
   "source": [
    "That kinda sucks."
   ]
  },
  {
   "cell_type": "markdown",
   "metadata": {
    "collapsed": true,
    "deletable": true,
    "editable": true
   },
   "source": [
    "#### 3.3.3"
   ]
  },
  {
   "cell_type": "markdown",
   "metadata": {
    "deletable": true,
    "editable": true
   },
   "source": [
    "Not much to say here. We get a document, send it through our NN, and we get a probability distribution (because of the softmax activation). We take the index of the largest probability, which is the predicted class of the document."
   ]
  },
  {
   "cell_type": "code",
   "execution_count": 46,
   "metadata": {
    "collapsed": true,
    "deletable": true,
    "editable": true
   },
   "outputs": [],
   "source": [
    "def classify_doc(string):\n",
    "    return np.array(model.predict([string])[0]).argmax()"
   ]
  },
  {
   "cell_type": "markdown",
   "metadata": {
    "collapsed": true,
    "deletable": true,
    "editable": true
   },
   "source": [
    "#### 3.3.4"
   ]
  },
  {
   "cell_type": "markdown",
   "metadata": {
    "deletable": true,
    "editable": true
   },
   "source": [
    "Self-documenting code FTW."
   ]
  },
  {
   "cell_type": "code",
   "execution_count": 47,
   "metadata": {
    "collapsed": false,
    "deletable": true,
    "editable": true
   },
   "outputs": [
    {
     "data": {
      "text/html": [
       "<div>\n",
       "<table border=\"1\" class=\"dataframe\">\n",
       "  <thead>\n",
       "    <tr style=\"text-align: right;\">\n",
       "      <th></th>\n",
       "      <th></th>\n",
       "      <th>number_of_words</th>\n",
       "    </tr>\n",
       "    <tr>\n",
       "      <th>class</th>\n",
       "      <th></th>\n",
       "      <th></th>\n",
       "    </tr>\n",
       "  </thead>\n",
       "  <tbody>\n",
       "    <tr>\n",
       "      <th rowspan=\"8\" valign=\"top\">0</th>\n",
       "      <th>count</th>\n",
       "      <td>67.000000</td>\n",
       "    </tr>\n",
       "    <tr>\n",
       "      <th>mean</th>\n",
       "      <td>230.149254</td>\n",
       "    </tr>\n",
       "    <tr>\n",
       "      <th>std</th>\n",
       "      <td>191.941930</td>\n",
       "    </tr>\n",
       "    <tr>\n",
       "      <th>min</th>\n",
       "      <td>37.000000</td>\n",
       "    </tr>\n",
       "    <tr>\n",
       "      <th>25%</th>\n",
       "      <td>84.000000</td>\n",
       "    </tr>\n",
       "    <tr>\n",
       "      <th>50%</th>\n",
       "      <td>169.000000</td>\n",
       "    </tr>\n",
       "    <tr>\n",
       "      <th>75%</th>\n",
       "      <td>288.000000</td>\n",
       "    </tr>\n",
       "    <tr>\n",
       "      <th>max</th>\n",
       "      <td>863.000000</td>\n",
       "    </tr>\n",
       "    <tr>\n",
       "      <th rowspan=\"8\" valign=\"top\">1</th>\n",
       "      <th>count</th>\n",
       "      <td>537.000000</td>\n",
       "    </tr>\n",
       "    <tr>\n",
       "      <th>mean</th>\n",
       "      <td>188.426443</td>\n",
       "    </tr>\n",
       "    <tr>\n",
       "      <th>std</th>\n",
       "      <td>199.344791</td>\n",
       "    </tr>\n",
       "    <tr>\n",
       "      <th>min</th>\n",
       "      <td>15.000000</td>\n",
       "    </tr>\n",
       "    <tr>\n",
       "      <th>25%</th>\n",
       "      <td>90.000000</td>\n",
       "    </tr>\n",
       "    <tr>\n",
       "      <th>50%</th>\n",
       "      <td>122.000000</td>\n",
       "    </tr>\n",
       "    <tr>\n",
       "      <th>75%</th>\n",
       "      <td>222.000000</td>\n",
       "    </tr>\n",
       "    <tr>\n",
       "      <th>max</th>\n",
       "      <td>2376.000000</td>\n",
       "    </tr>\n",
       "    <tr>\n",
       "      <th rowspan=\"8\" valign=\"top\">2</th>\n",
       "      <th>count</th>\n",
       "      <td>94.000000</td>\n",
       "    </tr>\n",
       "    <tr>\n",
       "      <th>mean</th>\n",
       "      <td>177.627660</td>\n",
       "    </tr>\n",
       "    <tr>\n",
       "      <th>std</th>\n",
       "      <td>136.563899</td>\n",
       "    </tr>\n",
       "    <tr>\n",
       "      <th>min</th>\n",
       "      <td>26.000000</td>\n",
       "    </tr>\n",
       "    <tr>\n",
       "      <th>25%</th>\n",
       "      <td>84.000000</td>\n",
       "    </tr>\n",
       "    <tr>\n",
       "      <th>50%</th>\n",
       "      <td>130.000000</td>\n",
       "    </tr>\n",
       "    <tr>\n",
       "      <th>75%</th>\n",
       "      <td>228.750000</td>\n",
       "    </tr>\n",
       "    <tr>\n",
       "      <th>max</th>\n",
       "      <td>712.000000</td>\n",
       "    </tr>\n",
       "    <tr>\n",
       "      <th rowspan=\"6\" valign=\"top\">3</th>\n",
       "      <th>count</th>\n",
       "      <td>3972.000000</td>\n",
       "    </tr>\n",
       "    <tr>\n",
       "      <th>mean</th>\n",
       "      <td>86.992951</td>\n",
       "    </tr>\n",
       "    <tr>\n",
       "      <th>std</th>\n",
       "      <td>88.175950</td>\n",
       "    </tr>\n",
       "    <tr>\n",
       "      <th>min</th>\n",
       "      <td>2.000000</td>\n",
       "    </tr>\n",
       "    <tr>\n",
       "      <th>25%</th>\n",
       "      <td>37.000000</td>\n",
       "    </tr>\n",
       "    <tr>\n",
       "      <th>50%</th>\n",
       "      <td>63.000000</td>\n",
       "    </tr>\n",
       "    <tr>\n",
       "      <th>...</th>\n",
       "      <th>...</th>\n",
       "      <td>...</td>\n",
       "    </tr>\n",
       "    <tr>\n",
       "      <th rowspan=\"6\" valign=\"top\">42</th>\n",
       "      <th>std</th>\n",
       "      <td>117.188452</td>\n",
       "    </tr>\n",
       "    <tr>\n",
       "      <th>min</th>\n",
       "      <td>47.000000</td>\n",
       "    </tr>\n",
       "    <tr>\n",
       "      <th>25%</th>\n",
       "      <td>101.750000</td>\n",
       "    </tr>\n",
       "    <tr>\n",
       "      <th>50%</th>\n",
       "      <td>198.500000</td>\n",
       "    </tr>\n",
       "    <tr>\n",
       "      <th>75%</th>\n",
       "      <td>307.250000</td>\n",
       "    </tr>\n",
       "    <tr>\n",
       "      <th>max</th>\n",
       "      <td>459.000000</td>\n",
       "    </tr>\n",
       "    <tr>\n",
       "      <th rowspan=\"8\" valign=\"top\">43</th>\n",
       "      <th>count</th>\n",
       "      <td>27.000000</td>\n",
       "    </tr>\n",
       "    <tr>\n",
       "      <th>mean</th>\n",
       "      <td>161.037037</td>\n",
       "    </tr>\n",
       "    <tr>\n",
       "      <th>std</th>\n",
       "      <td>131.851747</td>\n",
       "    </tr>\n",
       "    <tr>\n",
       "      <th>min</th>\n",
       "      <td>50.000000</td>\n",
       "    </tr>\n",
       "    <tr>\n",
       "      <th>25%</th>\n",
       "      <td>77.500000</td>\n",
       "    </tr>\n",
       "    <tr>\n",
       "      <th>50%</th>\n",
       "      <td>93.000000</td>\n",
       "    </tr>\n",
       "    <tr>\n",
       "      <th>75%</th>\n",
       "      <td>221.500000</td>\n",
       "    </tr>\n",
       "    <tr>\n",
       "      <th>max</th>\n",
       "      <td>490.000000</td>\n",
       "    </tr>\n",
       "    <tr>\n",
       "      <th rowspan=\"8\" valign=\"top\">44</th>\n",
       "      <th>count</th>\n",
       "      <td>17.000000</td>\n",
       "    </tr>\n",
       "    <tr>\n",
       "      <th>mean</th>\n",
       "      <td>110.764706</td>\n",
       "    </tr>\n",
       "    <tr>\n",
       "      <th>std</th>\n",
       "      <td>122.915891</td>\n",
       "    </tr>\n",
       "    <tr>\n",
       "      <th>min</th>\n",
       "      <td>59.000000</td>\n",
       "    </tr>\n",
       "    <tr>\n",
       "      <th>25%</th>\n",
       "      <td>59.000000</td>\n",
       "    </tr>\n",
       "    <tr>\n",
       "      <th>50%</th>\n",
       "      <td>59.000000</td>\n",
       "    </tr>\n",
       "    <tr>\n",
       "      <th>75%</th>\n",
       "      <td>85.000000</td>\n",
       "    </tr>\n",
       "    <tr>\n",
       "      <th>max</th>\n",
       "      <td>558.000000</td>\n",
       "    </tr>\n",
       "    <tr>\n",
       "      <th rowspan=\"8\" valign=\"top\">45</th>\n",
       "      <th>count</th>\n",
       "      <td>19.000000</td>\n",
       "    </tr>\n",
       "    <tr>\n",
       "      <th>mean</th>\n",
       "      <td>159.157895</td>\n",
       "    </tr>\n",
       "    <tr>\n",
       "      <th>std</th>\n",
       "      <td>141.791813</td>\n",
       "    </tr>\n",
       "    <tr>\n",
       "      <th>min</th>\n",
       "      <td>32.000000</td>\n",
       "    </tr>\n",
       "    <tr>\n",
       "      <th>25%</th>\n",
       "      <td>63.500000</td>\n",
       "    </tr>\n",
       "    <tr>\n",
       "      <th>50%</th>\n",
       "      <td>132.000000</td>\n",
       "    </tr>\n",
       "    <tr>\n",
       "      <th>75%</th>\n",
       "      <td>199.500000</td>\n",
       "    </tr>\n",
       "    <tr>\n",
       "      <th>max</th>\n",
       "      <td>624.000000</td>\n",
       "    </tr>\n",
       "  </tbody>\n",
       "</table>\n",
       "<p>368 rows × 1 columns</p>\n",
       "</div>"
      ],
      "text/plain": [
       "             number_of_words\n",
       "class                       \n",
       "0     count        67.000000\n",
       "      mean        230.149254\n",
       "      std         191.941930\n",
       "      min          37.000000\n",
       "      25%          84.000000\n",
       "      50%         169.000000\n",
       "      75%         288.000000\n",
       "      max         863.000000\n",
       "1     count       537.000000\n",
       "      mean        188.426443\n",
       "      std         199.344791\n",
       "      min          15.000000\n",
       "      25%          90.000000\n",
       "      50%         122.000000\n",
       "      75%         222.000000\n",
       "      max        2376.000000\n",
       "2     count        94.000000\n",
       "      mean        177.627660\n",
       "      std         136.563899\n",
       "      min          26.000000\n",
       "      25%          84.000000\n",
       "      50%         130.000000\n",
       "      75%         228.750000\n",
       "      max         712.000000\n",
       "3     count      3972.000000\n",
       "      mean         86.992951\n",
       "      std          88.175950\n",
       "      min           2.000000\n",
       "      25%          37.000000\n",
       "      50%          63.000000\n",
       "...                      ...\n",
       "42    std         117.188452\n",
       "      min          47.000000\n",
       "      25%         101.750000\n",
       "      50%         198.500000\n",
       "      75%         307.250000\n",
       "      max         459.000000\n",
       "43    count        27.000000\n",
       "      mean        161.037037\n",
       "      std         131.851747\n",
       "      min          50.000000\n",
       "      25%          77.500000\n",
       "      50%          93.000000\n",
       "      75%         221.500000\n",
       "      max         490.000000\n",
       "44    count        17.000000\n",
       "      mean        110.764706\n",
       "      std         122.915891\n",
       "      min          59.000000\n",
       "      25%          59.000000\n",
       "      50%          59.000000\n",
       "      75%          85.000000\n",
       "      max         558.000000\n",
       "45    count        19.000000\n",
       "      mean        159.157895\n",
       "      std         141.791813\n",
       "      min          32.000000\n",
       "      25%          63.500000\n",
       "      50%         132.000000\n",
       "      75%         199.500000\n",
       "      max         624.000000\n",
       "\n",
       "[368 rows x 1 columns]"
      ]
     },
     "execution_count": 47,
     "metadata": {},
     "output_type": "execute_result"
    }
   ],
   "source": [
    "(X, y), _ = reuters.load_data(test_split=0)\n",
    "\n",
    "stats = []\n",
    "for i, (doc, cls) in enumerate(zip(X, y)):\n",
    "    stats.append({\n",
    "        'number_of_words': len(doc),\n",
    "        'class': cls\n",
    "    })\n",
    "pd.DataFrame(stats).groupby('class').describe()"
   ]
  },
  {
   "cell_type": "markdown",
   "metadata": {
    "deletable": true,
    "editable": true
   },
   "source": [
    "#### 3.3.5"
   ]
  },
  {
   "cell_type": "markdown",
   "metadata": {
    "deletable": true,
    "editable": true
   },
   "source": [
    "Okay, we try to use Google News' pre-trained word2vec model as an embedding layer, instead of training one from scratch, like we did above. First, we load the model."
   ]
  },
  {
   "cell_type": "code",
   "execution_count": 48,
   "metadata": {
    "collapsed": true,
    "deletable": true,
    "editable": true
   },
   "outputs": [],
   "source": [
    "gv = gensim.models.keyedvectors.KeyedVectors.load_word2vec_format('GoogleNews-vectors-negative300.bin', binary=True)\n",
    "gv.init_sims(replace=True)"
   ]
  },
  {
   "cell_type": "markdown",
   "metadata": {
    "deletable": true,
    "editable": true
   },
   "source": [
    "Now we need to create our weight matrix. The matrix has dimensions $\\left| \\mathrm{Vocab} \\right| \\times 300$, where 300 is the embedding size. We initialize the matrix with random values so we don't treat different unknown words the same (unknown to the word2vec model, not to the dataset)."
   ]
  },
  {
   "cell_type": "code",
   "execution_count": 49,
   "metadata": {
    "collapsed": false,
    "deletable": true,
    "editable": true
   },
   "outputs": [],
   "source": [
    "# Create custom embedding\n",
    "w2v_weights = np.random.rand(10000, 300)\n",
    "for w, i in WORD2ID.items():\n",
    "    if i < 9997 and w in gv:\n",
    "        w2v_weights[i + 3] = gv[w]"
   ]
  },
  {
   "cell_type": "markdown",
   "metadata": {
    "deletable": true,
    "editable": true
   },
   "source": [
    "Hocus Pocus, TFLearn issue #35."
   ]
  },
  {
   "cell_type": "code",
   "execution_count": 50,
   "metadata": {
    "collapsed": false,
    "deletable": true,
    "editable": true
   },
   "outputs": [
    {
     "name": "stdout",
     "output_type": "stream",
     "text": [
      "Training Step: 1499  | total loss: \u001b[1m\u001b[32m1.33587\u001b[0m\u001b[0m | time: 8.153s\n",
      "| Adam | epoch: 010 | loss: 1.33587 - acc: 0.6890 -- iter: 4768/4777\n",
      "Training Step: 1500  | total loss: \u001b[1m\u001b[32m1.33509\u001b[0m\u001b[0m | time: 9.212s\n",
      "| Adam | epoch: 010 | loss: 1.33509 - acc: 0.6951 | val_loss: 1.31800 - val_acc: 0.7152 -- iter: 4777/4777\n",
      "--\n"
     ]
    }
   ],
   "source": [
    "tf.reset_default_graph()\n",
    "\n",
    "# Network building\n",
    "net = tflearn.input_data([None, 100])\n",
    "net = tflearn.embedding(net, input_dim=10000, output_dim=300, trainable=False)\n",
    "net = tflearn.lstm(net, 128, dropout=0.8)\n",
    "net = tflearn.fully_connected(net, nb_classes, activation='softmax')\n",
    "net = tflearn.regression(net, optimizer='adam', learning_rate=0.001, loss='categorical_crossentropy')\n",
    "\n",
    "# Training\n",
    "model = tflearn.DNN(net)\n",
    "embedding_weights = tflearn.get_layer_variables_by_name('Embedding')[0]\n",
    "model.set_weights(embedding_weights, w2v_weights)\n",
    "model.fit(X_train, y_train, n_epoch=10, validation_set=(X_val, y_val), show_metric=True, batch_size=32, run_id='reuters_lstm_we')"
   ]
  },
  {
   "cell_type": "code",
   "execution_count": 51,
   "metadata": {
    "collapsed": false,
    "deletable": true,
    "editable": true
   },
   "outputs": [
    {
     "data": {
      "text/plain": [
       "[0.67725752568165198]"
      ]
     },
     "execution_count": 51,
     "metadata": {},
     "output_type": "execute_result"
    }
   ],
   "source": [
    "model.evaluate(X_test, y_test, batch_size=32)"
   ]
  },
  {
   "cell_type": "markdown",
   "metadata": {},
   "source": [
    "For comparison, here are the accuracy and loss from Tensorboard of both the previous LSTM model (<span style=\"color: purple;\">purple</span>), and this one (<span style=\"color: blue;\">blue</span>):\n",
    "\n",
    "##### Accuracy\n",
    "\n",
    "![](q334_accuracy.png)\n",
    "\n",
    "##### Loss\n",
    "![](q334_loss.png)"
   ]
  },
  {
   "cell_type": "markdown",
   "metadata": {
    "deletable": true,
    "editable": true
   },
   "source": [
    "This is bullshit! All that work for what may just as well be luck?! We're outta here."
   ]
  }
 ],
 "metadata": {
  "anaconda-cloud": {},
  "kernelspec": {
   "display_name": "Python 3",
   "language": "python",
   "name": "python3"
  },
  "language_info": {
   "codemirror_mode": {
    "name": "ipython",
    "version": 3
   },
   "file_extension": ".py",
   "mimetype": "text/x-python",
   "name": "python",
   "nbconvert_exporter": "python",
   "pygments_lexer": "ipython3",
   "version": "3.5.3"
  }
 },
 "nbformat": 4,
 "nbformat_minor": 2
}
